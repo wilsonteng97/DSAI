{
 "cells": [
  {
   "cell_type": "markdown",
   "metadata": {},
   "source": [
    "# Exercise 5 : Classification Tree\n",
    "\n",
    "---\n",
    "\n",
    "### Essential Libraries\n",
    "\n",
    "Let us begin by importing the essential Python Libraries.\n",
    "\n",
    "> NumPy : Library for Numeric Computations in Python  \n",
    "> Pandas : Library for Data Acquisition and Preparation  \n",
    "> Matplotlib : Low-level library for Data Visualization  \n",
    "> Seaborn : Higher-level library for Data Visualization  "
   ]
  },
  {
   "cell_type": "code",
   "execution_count": 1,
   "metadata": {},
   "outputs": [],
   "source": [
    "# Basic Libraries\n",
    "import numpy as np\n",
    "import pandas as pd\n",
    "import seaborn as sb\n",
    "import matplotlib.pyplot as plt # we only need pyplot\n",
    "sb.set() # set the default Seaborn style for graphics"
   ]
  },
  {
   "cell_type": "markdown",
   "metadata": {},
   "source": [
    "---\n",
    "\n",
    "## Setup : Import the Dataset\n",
    "\n",
    "Dataset from Kaggle : The **\"House Prices\"** competition     \n",
    "Source: https://www.kaggle.com/c/house-prices-advanced-regression-techniques\n",
    "\n",
    "The dataset is `train.csv`; hence we use the `read_csv` function from Pandas.  \n",
    "Immediately after importing, take a quick look at the data using the `head` function."
   ]
  },
  {
   "cell_type": "code",
   "execution_count": 2,
   "metadata": {},
   "outputs": [
    {
     "data": {
      "text/html": [
       "<div>\n",
       "<style scoped>\n",
       "    .dataframe tbody tr th:only-of-type {\n",
       "        vertical-align: middle;\n",
       "    }\n",
       "\n",
       "    .dataframe tbody tr th {\n",
       "        vertical-align: top;\n",
       "    }\n",
       "\n",
       "    .dataframe thead th {\n",
       "        text-align: right;\n",
       "    }\n",
       "</style>\n",
       "<table border=\"1\" class=\"dataframe\">\n",
       "  <thead>\n",
       "    <tr style=\"text-align: right;\">\n",
       "      <th></th>\n",
       "      <th>Id</th>\n",
       "      <th>MSSubClass</th>\n",
       "      <th>MSZoning</th>\n",
       "      <th>LotFrontage</th>\n",
       "      <th>LotArea</th>\n",
       "      <th>Street</th>\n",
       "      <th>Alley</th>\n",
       "      <th>LotShape</th>\n",
       "      <th>LandContour</th>\n",
       "      <th>Utilities</th>\n",
       "      <th>...</th>\n",
       "      <th>PoolArea</th>\n",
       "      <th>PoolQC</th>\n",
       "      <th>Fence</th>\n",
       "      <th>MiscFeature</th>\n",
       "      <th>MiscVal</th>\n",
       "      <th>MoSold</th>\n",
       "      <th>YrSold</th>\n",
       "      <th>SaleType</th>\n",
       "      <th>SaleCondition</th>\n",
       "      <th>SalePrice</th>\n",
       "    </tr>\n",
       "  </thead>\n",
       "  <tbody>\n",
       "    <tr>\n",
       "      <th>0</th>\n",
       "      <td>1</td>\n",
       "      <td>60</td>\n",
       "      <td>RL</td>\n",
       "      <td>65.0</td>\n",
       "      <td>8450</td>\n",
       "      <td>Pave</td>\n",
       "      <td>NaN</td>\n",
       "      <td>Reg</td>\n",
       "      <td>Lvl</td>\n",
       "      <td>AllPub</td>\n",
       "      <td>...</td>\n",
       "      <td>0</td>\n",
       "      <td>NaN</td>\n",
       "      <td>NaN</td>\n",
       "      <td>NaN</td>\n",
       "      <td>0</td>\n",
       "      <td>2</td>\n",
       "      <td>2008</td>\n",
       "      <td>WD</td>\n",
       "      <td>Normal</td>\n",
       "      <td>208500</td>\n",
       "    </tr>\n",
       "    <tr>\n",
       "      <th>1</th>\n",
       "      <td>2</td>\n",
       "      <td>20</td>\n",
       "      <td>RL</td>\n",
       "      <td>80.0</td>\n",
       "      <td>9600</td>\n",
       "      <td>Pave</td>\n",
       "      <td>NaN</td>\n",
       "      <td>Reg</td>\n",
       "      <td>Lvl</td>\n",
       "      <td>AllPub</td>\n",
       "      <td>...</td>\n",
       "      <td>0</td>\n",
       "      <td>NaN</td>\n",
       "      <td>NaN</td>\n",
       "      <td>NaN</td>\n",
       "      <td>0</td>\n",
       "      <td>5</td>\n",
       "      <td>2007</td>\n",
       "      <td>WD</td>\n",
       "      <td>Normal</td>\n",
       "      <td>181500</td>\n",
       "    </tr>\n",
       "    <tr>\n",
       "      <th>2</th>\n",
       "      <td>3</td>\n",
       "      <td>60</td>\n",
       "      <td>RL</td>\n",
       "      <td>68.0</td>\n",
       "      <td>11250</td>\n",
       "      <td>Pave</td>\n",
       "      <td>NaN</td>\n",
       "      <td>IR1</td>\n",
       "      <td>Lvl</td>\n",
       "      <td>AllPub</td>\n",
       "      <td>...</td>\n",
       "      <td>0</td>\n",
       "      <td>NaN</td>\n",
       "      <td>NaN</td>\n",
       "      <td>NaN</td>\n",
       "      <td>0</td>\n",
       "      <td>9</td>\n",
       "      <td>2008</td>\n",
       "      <td>WD</td>\n",
       "      <td>Normal</td>\n",
       "      <td>223500</td>\n",
       "    </tr>\n",
       "    <tr>\n",
       "      <th>3</th>\n",
       "      <td>4</td>\n",
       "      <td>70</td>\n",
       "      <td>RL</td>\n",
       "      <td>60.0</td>\n",
       "      <td>9550</td>\n",
       "      <td>Pave</td>\n",
       "      <td>NaN</td>\n",
       "      <td>IR1</td>\n",
       "      <td>Lvl</td>\n",
       "      <td>AllPub</td>\n",
       "      <td>...</td>\n",
       "      <td>0</td>\n",
       "      <td>NaN</td>\n",
       "      <td>NaN</td>\n",
       "      <td>NaN</td>\n",
       "      <td>0</td>\n",
       "      <td>2</td>\n",
       "      <td>2006</td>\n",
       "      <td>WD</td>\n",
       "      <td>Abnorml</td>\n",
       "      <td>140000</td>\n",
       "    </tr>\n",
       "    <tr>\n",
       "      <th>4</th>\n",
       "      <td>5</td>\n",
       "      <td>60</td>\n",
       "      <td>RL</td>\n",
       "      <td>84.0</td>\n",
       "      <td>14260</td>\n",
       "      <td>Pave</td>\n",
       "      <td>NaN</td>\n",
       "      <td>IR1</td>\n",
       "      <td>Lvl</td>\n",
       "      <td>AllPub</td>\n",
       "      <td>...</td>\n",
       "      <td>0</td>\n",
       "      <td>NaN</td>\n",
       "      <td>NaN</td>\n",
       "      <td>NaN</td>\n",
       "      <td>0</td>\n",
       "      <td>12</td>\n",
       "      <td>2008</td>\n",
       "      <td>WD</td>\n",
       "      <td>Normal</td>\n",
       "      <td>250000</td>\n",
       "    </tr>\n",
       "  </tbody>\n",
       "</table>\n",
       "<p>5 rows × 81 columns</p>\n",
       "</div>"
      ],
      "text/plain": [
       "   Id  MSSubClass MSZoning  LotFrontage  LotArea Street Alley LotShape  \\\n",
       "0   1          60       RL         65.0     8450   Pave   NaN      Reg   \n",
       "1   2          20       RL         80.0     9600   Pave   NaN      Reg   \n",
       "2   3          60       RL         68.0    11250   Pave   NaN      IR1   \n",
       "3   4          70       RL         60.0     9550   Pave   NaN      IR1   \n",
       "4   5          60       RL         84.0    14260   Pave   NaN      IR1   \n",
       "\n",
       "  LandContour Utilities    ...     PoolArea PoolQC Fence MiscFeature MiscVal  \\\n",
       "0         Lvl    AllPub    ...            0    NaN   NaN         NaN       0   \n",
       "1         Lvl    AllPub    ...            0    NaN   NaN         NaN       0   \n",
       "2         Lvl    AllPub    ...            0    NaN   NaN         NaN       0   \n",
       "3         Lvl    AllPub    ...            0    NaN   NaN         NaN       0   \n",
       "4         Lvl    AllPub    ...            0    NaN   NaN         NaN       0   \n",
       "\n",
       "  MoSold YrSold  SaleType  SaleCondition  SalePrice  \n",
       "0      2   2008        WD         Normal     208500  \n",
       "1      5   2007        WD         Normal     181500  \n",
       "2      9   2008        WD         Normal     223500  \n",
       "3      2   2006        WD        Abnorml     140000  \n",
       "4     12   2008        WD         Normal     250000  \n",
       "\n",
       "[5 rows x 81 columns]"
      ]
     },
     "execution_count": 2,
     "metadata": {},
     "output_type": "execute_result"
    }
   ],
   "source": [
    "houseData = pd.read_csv('train.csv')\n",
    "houseData.head()"
   ]
  },
  {
   "cell_type": "code",
   "execution_count": null,
   "metadata": {},
   "outputs": [],
   "source": []
  },
  {
   "cell_type": "markdown",
   "metadata": {},
   "source": [
    "---\n",
    "\n",
    "## Problem 1 : Predicting CentralAir using SalePrice\n",
    "\n",
    "Explore the variable `CentralAir` from the dataset, as mentioned in the problem.     "
   ]
  },
  {
   "cell_type": "code",
   "execution_count": 3,
   "metadata": {},
   "outputs": [
    {
     "data": {
      "text/plain": [
       "count     1460\n",
       "unique       2\n",
       "top          Y\n",
       "freq      1365\n",
       "Name: CentralAir, dtype: object"
      ]
     },
     "execution_count": 3,
     "metadata": {},
     "output_type": "execute_result"
    }
   ],
   "source": [
    "houseData['CentralAir'].describe()"
   ]
  },
  {
   "cell_type": "markdown",
   "metadata": {},
   "source": [
    "Check the `catplot` for `CentralAir`, to visually understand the distribution."
   ]
  },
  {
   "cell_type": "code",
   "execution_count": 4,
   "metadata": {},
   "outputs": [
    {
     "data": {
      "text/plain": [
       "<seaborn.axisgrid.FacetGrid at 0x20ae987e7b8>"
      ]
     },
     "execution_count": 4,
     "metadata": {},
     "output_type": "execute_result"
    },
    {
     "data": {
      "image/png": "[encoded data removed]",
      "text/plain": [
       "<Figure size 360x360 with 1 Axes>"
      ]
     },
     "metadata": {
      "needs_background": "light"
     },
     "output_type": "display_data"
    }
   ],
   "source": [
    "sb.catplot(y = 'CentralAir', data = houseData, kind = \"count\")"
   ]
  },
  {
   "cell_type": "markdown",
   "metadata": {},
   "source": [
    "Note that the two levels of `CentralAir`, namely `Y` and `N`, are drastically imbalanced. This is not a very good situation for a classification problem. It is desirable to have *balanced* classes for classification, and there are several methods to make imbalanced classes balanced, or to get desired classification results even from imbalanced classes. If you are interested, check out the following article.       \n",
    "https://machinelearningmastery.com/tactics-to-combat-imbalanced-classes-in-your-machine-learning-dataset/       \n",
    "\n",
    "\n",
    "Plot `CentralAir` against `SalePrice` to visualize their mutual relationship."
   ]
  },
  {
   "cell_type": "code",
   "execution_count": 5,
   "metadata": {},
   "outputs": [
    {
     "data": {
      "text/plain": [
       "<matplotlib.axes._subplots.AxesSubplot at 0x20ae993ab38>"
      ]
     },
     "execution_count": 5,
     "metadata": {},
     "output_type": "execute_result"
    },
    {
     "data": {
      "image/png": "[encoded data removed]",
      "text/plain": [
       "<Figure size 1152x576 with 1 Axes>"
      ]
     },
     "metadata": {
      "needs_background": "light"
     },
     "output_type": "display_data"
    }
   ],
   "source": [
    "f, axes = plt.subplots(1, 1, figsize=(16, 8))\n",
    "sb.boxplot(x = 'SalePrice', y = 'CentralAir', data = houseData)"
   ]
  },
  {
   "cell_type": "markdown",
   "metadata": {},
   "source": [
    "Good to note that the two boxplots for `SalePrice`, for `CentralAir = Y` and `CentralAir = N`, are very different from one another in terms of their median value, as well as spread. This means that `CentralAir` has an effect on `SalePrice`, and hence, `SalePrice` will probably be an important variable in predicting `CentralAir`. Boxplots do not tell us where to make the cuts though -- it will be easier to visualize in the following `swarmplot`."
   ]
  },
  {
   "cell_type": "code",
   "execution_count": 6,
   "metadata": {},
   "outputs": [
    {
     "data": {
      "text/plain": [
       "<matplotlib.axes._subplots.AxesSubplot at 0x20ae99e1e48>"
      ]
     },
     "execution_count": 6,
     "metadata": {},
     "output_type": "execute_result"
    },
    {
     "data": {
      "image/png": "[encoded data removed]",
      "text/plain": [
       "<Figure size 1152x576 with 1 Axes>"
      ]
     },
     "metadata": {
      "needs_background": "light"
     },
     "output_type": "display_data"
    }
   ],
   "source": [
    "f, axes = plt.subplots(1, 1, figsize=(16, 8))\n",
    "sb.swarmplot(x = 'SalePrice', y = 'CentralAir', data = houseData)"
   ]
  },
  {
   "cell_type": "markdown",
   "metadata": {},
   "source": [
    "Now it's time to build the Decision Tree classifier. Import the `DecisionTreeClassifier` model from `sklearn.tree`."
   ]
  },
  {
   "cell_type": "code",
   "execution_count": 7,
   "metadata": {},
   "outputs": [],
   "source": [
    "# Import Decision Tree Classifier model from Scikit-Learn\n",
    "from sklearn.tree import DecisionTreeClassifier\n",
    "\n",
    "# Create a Decision Tree Classifier object\n",
    "dectree = DecisionTreeClassifier(max_depth = 2)"
   ]
  },
  {
   "cell_type": "markdown",
   "metadata": {},
   "source": [
    "Prepare both the datasets by splitting in Train and Test sets.   \n",
    "Train Set with 1100 samples and Test Set with 360 samples."
   ]
  },
  {
   "cell_type": "code",
   "execution_count": 8,
   "metadata": {},
   "outputs": [
    {
     "name": "stdout",
     "output_type": "stream",
     "text": [
      "Train Set : (1100, 81)\n",
      "Test Set  : (360, 81)\n"
     ]
    }
   ],
   "source": [
    "# Split the dataset into Train and Test       \n",
    "houseData_train = pd.DataFrame(houseData[:1100])\n",
    "houseData_test  = pd.DataFrame(houseData[-360:])\n",
    "\n",
    "# Check the sample sizes\n",
    "print(\"Train Set :\", houseData_train.shape)\n",
    "print(\"Test Set  :\", houseData_test.shape)"
   ]
  },
  {
   "cell_type": "markdown",
   "metadata": {},
   "source": [
    "Train the Decision Tree Classifier model `dectree` using the Train Set.   "
   ]
  },
  {
   "cell_type": "code",
   "execution_count": 9,
   "metadata": {},
   "outputs": [
    {
     "data": {
      "text/plain": [
       "DecisionTreeClassifier(class_weight=None, criterion='gini', max_depth=2,\n",
       "            max_features=None, max_leaf_nodes=None,\n",
       "            min_impurity_decrease=0.0, min_impurity_split=None,\n",
       "            min_samples_leaf=1, min_samples_split=2,\n",
       "            min_weight_fraction_leaf=0.0, presort=False, random_state=None,\n",
       "            splitter='best')"
      ]
     },
     "execution_count": 9,
     "metadata": {},
     "output_type": "execute_result"
    }
   ],
   "source": [
    "# Extract the two variables X_train and y_train\n",
    "y_train = pd.DataFrame(houseData_train['CentralAir'])\n",
    "X_train = pd.DataFrame(houseData_train['SalePrice'])\n",
    "\n",
    "# Train the Decision Tree Classifier model\n",
    "dectree.fit(X_train, y_train)"
   ]
  },
  {
   "cell_type": "markdown",
   "metadata": {},
   "source": [
    "#### Visual Representation of the Decision Tree Model\n",
    "\n",
    "Export the Decision Tree as a `dot` file using `export_graphviz`, and visualize."
   ]
  },
  {
   "cell_type": "code",
   "execution_count": 10,
   "metadata": {},
   "outputs": [
    {
     "data": {
      "image/svg+xml": [
       "<?xml version=\"1.0\" encoding=\"UTF-8\" standalone=\"no\"?>\r\n",
       "<!DOCTYPE svg PUBLIC \"-//W3C//DTD SVG 1.1//EN\"\r\n",
       " \"http://www.w3.org/Graphics/SVG/1.1/DTD/svg11.dtd\">\r\n",
       "<!-- Generated by graphviz version 2.38.0 (20140413.2041)\r\n",
       " -->\r\n",
       "<!-- Title: Tree Pages: 1 -->\r\n",
       "<svg width=\"532pt\" height=\"269pt\"\r\n",
       " viewBox=\"0.00 0.00 532.00 269.00\" xmlns=\"http://www.w3.org/2000/svg\" xmlns:xlink=\"http://www.w3.org/1999/xlink\">\r\n",
       "<g id=\"graph0\" class=\"graph\" transform=\"scale(1 1) rotate(0) translate(4 265)\">\r\n",
       "<title>Tree</title>\r\n",
       "<polygon fill=\"white\" stroke=\"none\" points=\"-4,4 -4,-265 528,-265 528,4 -4,4\"/>\r\n",
       "<!-- 0 -->\r\n",
       "<g id=\"node1\" class=\"node\"><title>0</title>\r\n",
       "<path fill=\"#399de5\" fill-opacity=\"0.929412\" stroke=\"black\" d=\"M320,-261C320,-261 189,-261 189,-261 183,-261 177,-255 177,-249 177,-249 177,-205 177,-205 177,-199 183,-193 189,-193 189,-193 320,-193 320,-193 326,-193 332,-199 332,-205 332,-205 332,-249 332,-249 332,-255 326,-261 320,-261\"/>\r\n",
       "<text text-anchor=\"start\" x=\"185\" y=\"-245.8\" font-family=\"Helvetica,sans-Serif\" font-size=\"14.00\">SalePrice ≤ 107450.0</text>\r\n",
       "<text text-anchor=\"start\" x=\"217\" y=\"-230.8\" font-family=\"Helvetica,sans-Serif\" font-size=\"14.00\">gini = 0.125</text>\r\n",
       "<text text-anchor=\"start\" x=\"203\" y=\"-215.8\" font-family=\"Helvetica,sans-Serif\" font-size=\"14.00\">samples = 1100</text>\r\n",
       "<text text-anchor=\"start\" x=\"197.5\" y=\"-200.8\" font-family=\"Helvetica,sans-Serif\" font-size=\"14.00\">value = [74, 1026]</text>\r\n",
       "</g>\r\n",
       "<!-- 1 -->\r\n",
       "<g id=\"node2\" class=\"node\"><title>1</title>\r\n",
       "<path fill=\"#399de5\" fill-opacity=\"0.368627\" stroke=\"black\" d=\"M231.5,-157C231.5,-157 109.5,-157 109.5,-157 103.5,-157 97.5,-151 97.5,-145 97.5,-145 97.5,-101 97.5,-101 97.5,-95 103.5,-89 109.5,-89 109.5,-89 231.5,-89 231.5,-89 237.5,-89 243.5,-95 243.5,-101 243.5,-101 243.5,-145 243.5,-145 243.5,-151 237.5,-157 231.5,-157\"/>\r\n",
       "<text text-anchor=\"start\" x=\"105.5\" y=\"-141.8\" font-family=\"Helvetica,sans-Serif\" font-size=\"14.00\">SalePrice ≤ 79250.0</text>\r\n",
       "<text text-anchor=\"start\" x=\"133\" y=\"-126.8\" font-family=\"Helvetica,sans-Serif\" font-size=\"14.00\">gini = 0.474</text>\r\n",
       "<text text-anchor=\"start\" x=\"123\" y=\"-111.8\" font-family=\"Helvetica,sans-Serif\" font-size=\"14.00\">samples = 119</text>\r\n",
       "<text text-anchor=\"start\" x=\"122\" y=\"-96.8\" font-family=\"Helvetica,sans-Serif\" font-size=\"14.00\">value = [46, 73]</text>\r\n",
       "</g>\r\n",
       "<!-- 0&#45;&gt;1 -->\r\n",
       "<g id=\"edge1\" class=\"edge\"><title>0&#45;&gt;1</title>\r\n",
       "<path fill=\"none\" stroke=\"black\" d=\"M227.228,-192.884C219.965,-184.065 212.031,-174.43 204.458,-165.235\"/>\r\n",
       "<polygon fill=\"black\" stroke=\"black\" points=\"206.982,-162.794 197.923,-157.299 201.578,-167.244 206.982,-162.794\"/>\r\n",
       "<text text-anchor=\"middle\" x=\"195.515\" y=\"-178.483\" font-family=\"Helvetica,sans-Serif\" font-size=\"14.00\">True</text>\r\n",
       "</g>\r\n",
       "<!-- 4 -->\r\n",
       "<g id=\"node5\" class=\"node\"><title>4</title>\r\n",
       "<path fill=\"#399de5\" fill-opacity=\"0.972549\" stroke=\"black\" d=\"M405,-157C405,-157 274,-157 274,-157 268,-157 262,-151 262,-145 262,-145 262,-101 262,-101 262,-95 268,-89 274,-89 274,-89 405,-89 405,-89 411,-89 417,-95 417,-101 417,-101 417,-145 417,-145 417,-151 411,-157 405,-157\"/>\r\n",
       "<text text-anchor=\"start\" x=\"270\" y=\"-141.8\" font-family=\"Helvetica,sans-Serif\" font-size=\"14.00\">SalePrice ≤ 145125.0</text>\r\n",
       "<text text-anchor=\"start\" x=\"302\" y=\"-126.8\" font-family=\"Helvetica,sans-Serif\" font-size=\"14.00\">gini = 0.055</text>\r\n",
       "<text text-anchor=\"start\" x=\"292\" y=\"-111.8\" font-family=\"Helvetica,sans-Serif\" font-size=\"14.00\">samples = 981</text>\r\n",
       "<text text-anchor=\"start\" x=\"286.5\" y=\"-96.8\" font-family=\"Helvetica,sans-Serif\" font-size=\"14.00\">value = [28, 953]</text>\r\n",
       "</g>\r\n",
       "<!-- 0&#45;&gt;4 -->\r\n",
       "<g id=\"edge4\" class=\"edge\"><title>0&#45;&gt;4</title>\r\n",
       "<path fill=\"none\" stroke=\"black\" d=\"M282.097,-192.884C289.446,-184.065 297.475,-174.43 305.137,-165.235\"/>\r\n",
       "<polygon fill=\"black\" stroke=\"black\" points=\"308.037,-167.222 311.751,-157.299 302.66,-162.741 308.037,-167.222\"/>\r\n",
       "<text text-anchor=\"middle\" x=\"314.014\" y=\"-178.497\" font-family=\"Helvetica,sans-Serif\" font-size=\"14.00\">False</text>\r\n",
       "</g>\r\n",
       "<!-- 2 -->\r\n",
       "<g id=\"node3\" class=\"node\"><title>2</title>\r\n",
       "<path fill=\"#e58139\" fill-opacity=\"0.498039\" stroke=\"black\" d=\"M93,-53C93,-53 12,-53 12,-53 6,-53 0,-47 0,-41 0,-41 0,-12 0,-12 0,-6 6,-0 12,-0 12,-0 93,-0 93,-0 99,-0 105,-6 105,-12 105,-12 105,-41 105,-41 105,-47 99,-53 93,-53\"/>\r\n",
       "<text text-anchor=\"start\" x=\"15\" y=\"-37.8\" font-family=\"Helvetica,sans-Serif\" font-size=\"14.00\">gini = 0.444</text>\r\n",
       "<text text-anchor=\"start\" x=\"9\" y=\"-22.8\" font-family=\"Helvetica,sans-Serif\" font-size=\"14.00\">samples = 24</text>\r\n",
       "<text text-anchor=\"start\" x=\"8\" y=\"-7.8\" font-family=\"Helvetica,sans-Serif\" font-size=\"14.00\">value = [16, 8]</text>\r\n",
       "</g>\r\n",
       "<!-- 1&#45;&gt;2 -->\r\n",
       "<g id=\"edge2\" class=\"edge\"><title>1&#45;&gt;2</title>\r\n",
       "<path fill=\"none\" stroke=\"black\" d=\"M129.229,-88.9485C117.35,-79.4346 104.412,-69.074 92.6044,-59.6175\"/>\r\n",
       "<polygon fill=\"black\" stroke=\"black\" points=\"94.6302,-56.7558 84.6368,-53.2367 90.2545,-62.2196 94.6302,-56.7558\"/>\r\n",
       "</g>\r\n",
       "<!-- 3 -->\r\n",
       "<g id=\"node4\" class=\"node\"><title>3</title>\r\n",
       "<path fill=\"#399de5\" fill-opacity=\"0.537255\" stroke=\"black\" d=\"M224,-53C224,-53 135,-53 135,-53 129,-53 123,-47 123,-41 123,-41 123,-12 123,-12 123,-6 129,-0 135,-0 135,-0 224,-0 224,-0 230,-0 236,-6 236,-12 236,-12 236,-41 236,-41 236,-47 230,-53 224,-53\"/>\r\n",
       "<text text-anchor=\"start\" x=\"142\" y=\"-37.8\" font-family=\"Helvetica,sans-Serif\" font-size=\"14.00\">gini = 0.432</text>\r\n",
       "<text text-anchor=\"start\" x=\"136\" y=\"-22.8\" font-family=\"Helvetica,sans-Serif\" font-size=\"14.00\">samples = 95</text>\r\n",
       "<text text-anchor=\"start\" x=\"131\" y=\"-7.8\" font-family=\"Helvetica,sans-Serif\" font-size=\"14.00\">value = [30, 65]</text>\r\n",
       "</g>\r\n",
       "<!-- 1&#45;&gt;3 -->\r\n",
       "<g id=\"edge3\" class=\"edge\"><title>1&#45;&gt;3</title>\r\n",
       "<path fill=\"none\" stroke=\"black\" d=\"M173.648,-88.9485C174.441,-80.6238 175.295,-71.6509 176.1,-63.2027\"/>\r\n",
       "<polygon fill=\"black\" stroke=\"black\" points=\"179.585,-63.5235 177.049,-53.2367 172.616,-62.8598 179.585,-63.5235\"/>\r\n",
       "</g>\r\n",
       "<!-- 5 -->\r\n",
       "<g id=\"node6\" class=\"node\"><title>5</title>\r\n",
       "<path fill=\"#399de5\" fill-opacity=\"0.925490\" stroke=\"black\" d=\"M380.5,-53C380.5,-53 282.5,-53 282.5,-53 276.5,-53 270.5,-47 270.5,-41 270.5,-41 270.5,-12 270.5,-12 270.5,-6 276.5,-0 282.5,-0 282.5,-0 380.5,-0 380.5,-0 386.5,-0 392.5,-6 392.5,-12 392.5,-12 392.5,-41 392.5,-41 392.5,-47 386.5,-53 380.5,-53\"/>\r\n",
       "<text text-anchor=\"start\" x=\"294\" y=\"-37.8\" font-family=\"Helvetica,sans-Serif\" font-size=\"14.00\">gini = 0.128</text>\r\n",
       "<text text-anchor=\"start\" x=\"284\" y=\"-22.8\" font-family=\"Helvetica,sans-Serif\" font-size=\"14.00\">samples = 305</text>\r\n",
       "<text text-anchor=\"start\" x=\"278.5\" y=\"-7.8\" font-family=\"Helvetica,sans-Serif\" font-size=\"14.00\">value = [21, 284]</text>\r\n",
       "</g>\r\n",
       "<!-- 4&#45;&gt;5 -->\r\n",
       "<g id=\"edge5\" class=\"edge\"><title>4&#45;&gt;5</title>\r\n",
       "<path fill=\"none\" stroke=\"black\" d=\"M336.702,-88.9485C335.997,-80.6238 335.238,-71.6509 334.522,-63.2027\"/>\r\n",
       "<polygon fill=\"black\" stroke=\"black\" points=\"338.01,-62.9058 333.679,-53.2367 331.035,-63.4963 338.01,-62.9058\"/>\r\n",
       "</g>\r\n",
       "<!-- 6 -->\r\n",
       "<g id=\"node7\" class=\"node\"><title>6</title>\r\n",
       "<path fill=\"#399de5\" fill-opacity=\"0.988235\" stroke=\"black\" d=\"M512,-53C512,-53 423,-53 423,-53 417,-53 411,-47 411,-41 411,-41 411,-12 411,-12 411,-6 417,-0 423,-0 423,-0 512,-0 512,-0 518,-0 524,-6 524,-12 524,-12 524,-41 524,-41 524,-47 518,-53 512,-53\"/>\r\n",
       "<text text-anchor=\"start\" x=\"434\" y=\"-37.8\" font-family=\"Helvetica,sans-Serif\" font-size=\"14.00\">gini = 0.02</text>\r\n",
       "<text text-anchor=\"start\" x=\"420\" y=\"-22.8\" font-family=\"Helvetica,sans-Serif\" font-size=\"14.00\">samples = 676</text>\r\n",
       "<text text-anchor=\"start\" x=\"419\" y=\"-7.8\" font-family=\"Helvetica,sans-Serif\" font-size=\"14.00\">value = [7, 669]</text>\r\n",
       "</g>\r\n",
       "<!-- 4&#45;&gt;6 -->\r\n",
       "<g id=\"edge6\" class=\"edge\"><title>4&#45;&gt;6</title>\r\n",
       "<path fill=\"none\" stroke=\"black\" d=\"M384.268,-88.9485C397.279,-79.3431 411.458,-68.8747 424.366,-59.345\"/>\r\n",
       "<polygon fill=\"black\" stroke=\"black\" points=\"426.673,-61.992 432.64,-53.2367 422.516,-56.3605 426.673,-61.992\"/>\r\n",
       "</g>\r\n",
       "</g>\r\n",
       "</svg>\r\n"
      ],
      "text/plain": [
       "<graphviz.files.Source at 0x20aea0734a8>"
      ]
     },
     "execution_count": 10,
     "metadata": {},
     "output_type": "execute_result"
    }
   ],
   "source": [
    "# Import export_graphviz from sklearn.tree\n",
    "from sklearn.tree import export_graphviz\n",
    "\n",
    "# Export the Decision Tree as a dot object\n",
    "treedot = export_graphviz(dectree,                                      # the model\n",
    "                          feature_names = X_train.columns,              # the features \n",
    "                          out_file = None,                              # output file\n",
    "                          filled = True,                                # node colors\n",
    "                          rounded = True,                               # make pretty\n",
    "                          special_characters = True)                    # postscript\n",
    "\n",
    "# Render using graphviz\n",
    "import graphviz\n",
    "graphviz.Source(treedot)"
   ]
  },
  {
   "cell_type": "markdown",
   "metadata": {},
   "source": [
    "#### Goodness of Fit of the Model\n",
    "\n",
    "Check how good the predictions are on the Train Set.    \n",
    "Metrics : Classification Accuracy and Confusion Matrix."
   ]
  },
  {
   "cell_type": "code",
   "execution_count": 11,
   "metadata": {},
   "outputs": [
    {
     "name": "stdout",
     "output_type": "stream",
     "text": [
      "Classification Accuracy \t: 0.94\n"
     ]
    },
    {
     "data": {
      "text/plain": [
       "<matplotlib.axes._subplots.AxesSubplot at 0x20aea10d8d0>"
      ]
     },
     "execution_count": 11,
     "metadata": {},
     "output_type": "execute_result"
    },
    {
     "data": {
      "image/png": "[encoded data removed]",
      "text/plain": [
       "<Figure size 432x288 with 2 Axes>"
      ]
     },
     "metadata": {
      "needs_background": "light"
     },
     "output_type": "display_data"
    }
   ],
   "source": [
    "# Predict the Response corresponding to Predictors\n",
    "y_train_pred = dectree.predict(X_train)\n",
    "\n",
    "# Print the Classification Accuracy\n",
    "print(\"Classification Accuracy \\t:\", dectree.score(X_train, y_train))\n",
    "\n",
    "# Plot the two-way Confusion Matrix\n",
    "from sklearn.metrics import confusion_matrix\n",
    "sb.heatmap(confusion_matrix(y_train, y_train_pred), \n",
    "           annot = True, fmt=\".0f\", annot_kws={\"size\": 18})"
   ]
  },
  {
   "cell_type": "markdown",
   "metadata": {},
   "source": [
    "#### Prediction of Response based on the Predictor\n",
    "\n",
    "Check how good the predictions are on the Test Set.    \n",
    "Metrics : Classification Accuracy and Confusion Matrix."
   ]
  },
  {
   "cell_type": "code",
   "execution_count": 12,
   "metadata": {},
   "outputs": [
    {
     "name": "stdout",
     "output_type": "stream",
     "text": [
      "Classification Accuracy \t: 0.9472222222222222\n"
     ]
    },
    {
     "data": {
      "text/plain": [
       "<matplotlib.axes._subplots.AxesSubplot at 0x20aea1a5b70>"
      ]
     },
     "execution_count": 12,
     "metadata": {},
     "output_type": "execute_result"
    },
    {
     "data": {
      "image/png": "[encoded data removed]",
      "text/plain": [
       "<Figure size 432x288 with 2 Axes>"
      ]
     },
     "metadata": {
      "needs_background": "light"
     },
     "output_type": "display_data"
    }
   ],
   "source": [
    "# Extract the two variables X_test and y_test\n",
    "y_test = pd.DataFrame(houseData_test['CentralAir'])\n",
    "X_test = pd.DataFrame(houseData_test['SalePrice'])\n",
    "\n",
    "# Predict the Response corresponding to Predictors\n",
    "y_test_pred = dectree.predict(X_test)\n",
    "\n",
    "# Print the Classification Accuracy\n",
    "print(\"Classification Accuracy \\t:\", dectree.score(X_test, y_test))\n",
    "\n",
    "# Plot the two-way Confusion Matrix\n",
    "from sklearn.metrics import confusion_matrix\n",
    "sb.heatmap(confusion_matrix(y_test, y_test_pred), \n",
    "           annot = True, fmt=\".0f\", annot_kws={\"size\": 18})"
   ]
  },
  {
   "cell_type": "markdown",
   "metadata": {},
   "source": [
    "**Important** : Note the huge imbalance in the *False Positives* and *False Negatives* in the confusion matrix. In case of Training Data, *False Positives = 58* whereas *False Negatives = 8*. In case of Test Data, *False Positives = 16* whereas *False Negatives = 3*. This is not surprising -- actually, this is a direct effect of the huge `Y` vs `N` imbalance in the `CentralAir` variable. As `CentralAir = Y` was more likely in the data, *False Positives* are more likely too."
   ]
  },
  {
   "cell_type": "code",
   "execution_count": null,
   "metadata": {},
   "outputs": [],
   "source": []
  },
  {
   "cell_type": "markdown",
   "metadata": {},
   "source": [
    "---\n",
    "\n",
    "## Problem 2 : Predicting CentralAir using Other Variables\n",
    "\n",
    "Use the other variables from the dataset to predict `CentralAir`, as mentioned in the problem.     "
   ]
  },
  {
   "cell_type": "code",
   "execution_count": 13,
   "metadata": {},
   "outputs": [
    {
     "name": "stdout",
     "output_type": "stream",
     "text": [
      "Goodness of Fit of Model \tTrain Dataset\n",
      "Classification Accuracy \t: 0.9381818181818182\n",
      "\n",
      "Goodness of Fit of Model \tTest Dataset\n",
      "Classification Accuracy \t: 0.9361111111111111\n",
      "\n"
     ]
    },
    {
     "data": {
      "image/svg+xml": [
       "<?xml version=\"1.0\" encoding=\"UTF-8\" standalone=\"no\"?>\r\n",
       "<!DOCTYPE svg PUBLIC \"-//W3C//DTD SVG 1.1//EN\"\r\n",
       " \"http://www.w3.org/Graphics/SVG/1.1/DTD/svg11.dtd\">\r\n",
       "<!-- Generated by graphviz version 2.38.0 (20140413.2041)\r\n",
       " -->\r\n",
       "<!-- Title: Tree Pages: 1 -->\r\n",
       "<svg width=\"526pt\" height=\"269pt\"\r\n",
       " viewBox=\"0.00 0.00 525.50 269.00\" xmlns=\"http://www.w3.org/2000/svg\" xmlns:xlink=\"http://www.w3.org/1999/xlink\">\r\n",
       "<g id=\"graph0\" class=\"graph\" transform=\"scale(1 1) rotate(0) translate(4 265)\">\r\n",
       "<title>Tree</title>\r\n",
       "<polygon fill=\"white\" stroke=\"none\" points=\"-4,4 -4,-265 521.5,-265 521.5,4 -4,4\"/>\r\n",
       "<!-- 0 -->\r\n",
       "<g id=\"node1\" class=\"node\"><title>0</title>\r\n",
       "<path fill=\"#399de5\" fill-opacity=\"0.929412\" stroke=\"black\" d=\"M297.5,-261C297.5,-261 189.5,-261 189.5,-261 183.5,-261 177.5,-255 177.5,-249 177.5,-249 177.5,-205 177.5,-205 177.5,-199 183.5,-193 189.5,-193 189.5,-193 297.5,-193 297.5,-193 303.5,-193 309.5,-199 309.5,-205 309.5,-205 309.5,-249 309.5,-249 309.5,-255 303.5,-261 297.5,-261\"/>\r\n",
       "<text text-anchor=\"start\" x=\"185.5\" y=\"-245.8\" font-family=\"Helvetica,sans-Serif\" font-size=\"14.00\">GrLivArea ≤ 803.5</text>\r\n",
       "<text text-anchor=\"start\" x=\"206\" y=\"-230.8\" font-family=\"Helvetica,sans-Serif\" font-size=\"14.00\">gini = 0.121</text>\r\n",
       "<text text-anchor=\"start\" x=\"192\" y=\"-215.8\" font-family=\"Helvetica,sans-Serif\" font-size=\"14.00\">samples = 1100</text>\r\n",
       "<text text-anchor=\"start\" x=\"186.5\" y=\"-200.8\" font-family=\"Helvetica,sans-Serif\" font-size=\"14.00\">value = [71, 1029]</text>\r\n",
       "</g>\r\n",
       "<!-- 1 -->\r\n",
       "<g id=\"node2\" class=\"node\"><title>1</title>\r\n",
       "<path fill=\"#399de5\" fill-opacity=\"0.462745\" stroke=\"black\" d=\"M220.5,-157C220.5,-157 112.5,-157 112.5,-157 106.5,-157 100.5,-151 100.5,-145 100.5,-145 100.5,-101 100.5,-101 100.5,-95 106.5,-89 112.5,-89 112.5,-89 220.5,-89 220.5,-89 226.5,-89 232.5,-95 232.5,-101 232.5,-101 232.5,-145 232.5,-145 232.5,-151 226.5,-157 220.5,-157\"/>\r\n",
       "<text text-anchor=\"start\" x=\"108.5\" y=\"-141.8\" font-family=\"Helvetica,sans-Serif\" font-size=\"14.00\">GrLivArea ≤ 568.0</text>\r\n",
       "<text text-anchor=\"start\" x=\"129\" y=\"-126.8\" font-family=\"Helvetica,sans-Serif\" font-size=\"14.00\">gini = 0.455</text>\r\n",
       "<text text-anchor=\"start\" x=\"123\" y=\"-111.8\" font-family=\"Helvetica,sans-Serif\" font-size=\"14.00\">samples = 40</text>\r\n",
       "<text text-anchor=\"start\" x=\"118\" y=\"-96.8\" font-family=\"Helvetica,sans-Serif\" font-size=\"14.00\">value = [14, 26]</text>\r\n",
       "</g>\r\n",
       "<!-- 0&#45;&gt;1 -->\r\n",
       "<g id=\"edge1\" class=\"edge\"><title>0&#45;&gt;1</title>\r\n",
       "<path fill=\"none\" stroke=\"black\" d=\"M218.5,-192.884C211.911,-184.154 204.717,-174.625 197.839,-165.514\"/>\r\n",
       "<polygon fill=\"black\" stroke=\"black\" points=\"200.456,-163.172 191.638,-157.299 194.869,-167.389 200.456,-163.172\"/>\r\n",
       "<text text-anchor=\"middle\" x=\"188.18\" y=\"-178.359\" font-family=\"Helvetica,sans-Serif\" font-size=\"14.00\">True</text>\r\n",
       "</g>\r\n",
       "<!-- 4 -->\r\n",
       "<g id=\"node5\" class=\"node\"><title>4</title>\r\n",
       "<path fill=\"#399de5\" fill-opacity=\"0.945098\" stroke=\"black\" d=\"M378.5,-157C378.5,-157 262.5,-157 262.5,-157 256.5,-157 250.5,-151 250.5,-145 250.5,-145 250.5,-101 250.5,-101 250.5,-95 256.5,-89 262.5,-89 262.5,-89 378.5,-89 378.5,-89 384.5,-89 390.5,-95 390.5,-101 390.5,-101 390.5,-145 390.5,-145 390.5,-151 384.5,-157 378.5,-157\"/>\r\n",
       "<text text-anchor=\"start\" x=\"258.5\" y=\"-141.8\" font-family=\"Helvetica,sans-Serif\" font-size=\"14.00\">GrLivArea ≤ 1193.0</text>\r\n",
       "<text text-anchor=\"start\" x=\"283\" y=\"-126.8\" font-family=\"Helvetica,sans-Serif\" font-size=\"14.00\">gini = 0.102</text>\r\n",
       "<text text-anchor=\"start\" x=\"269\" y=\"-111.8\" font-family=\"Helvetica,sans-Serif\" font-size=\"14.00\">samples = 1060</text>\r\n",
       "<text text-anchor=\"start\" x=\"263.5\" y=\"-96.8\" font-family=\"Helvetica,sans-Serif\" font-size=\"14.00\">value = [57, 1003]</text>\r\n",
       "</g>\r\n",
       "<!-- 0&#45;&gt;4 -->\r\n",
       "<g id=\"edge4\" class=\"edge\"><title>0&#45;&gt;4</title>\r\n",
       "<path fill=\"none\" stroke=\"black\" d=\"M268.5,-192.884C275.089,-184.154 282.283,-174.625 289.161,-165.514\"/>\r\n",
       "<polygon fill=\"black\" stroke=\"black\" points=\"292.131,-167.389 295.362,-157.299 286.544,-163.172 292.131,-167.389\"/>\r\n",
       "<text text-anchor=\"middle\" x=\"298.82\" y=\"-178.359\" font-family=\"Helvetica,sans-Serif\" font-size=\"14.00\">False</text>\r\n",
       "</g>\r\n",
       "<!-- 2 -->\r\n",
       "<g id=\"node3\" class=\"node\"><title>2</title>\r\n",
       "<path fill=\"#e58139\" stroke=\"black\" d=\"M85,-53C85,-53 12,-53 12,-53 6,-53 0,-47 0,-41 0,-41 0,-12 0,-12 0,-6 6,-0 12,-0 12,-0 85,-0 85,-0 91,-0 97,-6 97,-12 97,-12 97,-41 97,-41 97,-47 91,-53 85,-53\"/>\r\n",
       "<text text-anchor=\"start\" x=\"19.5\" y=\"-37.8\" font-family=\"Helvetica,sans-Serif\" font-size=\"14.00\">gini = 0.0</text>\r\n",
       "<text text-anchor=\"start\" x=\"9\" y=\"-22.8\" font-family=\"Helvetica,sans-Serif\" font-size=\"14.00\">samples = 3</text>\r\n",
       "<text text-anchor=\"start\" x=\"8\" y=\"-7.8\" font-family=\"Helvetica,sans-Serif\" font-size=\"14.00\">value = [3, 0]</text>\r\n",
       "</g>\r\n",
       "<!-- 1&#45;&gt;2 -->\r\n",
       "<g id=\"edge2\" class=\"edge\"><title>1&#45;&gt;2</title>\r\n",
       "<path fill=\"none\" stroke=\"black\" d=\"M125.229,-88.9485C113.35,-79.4346 100.412,-69.074 88.6044,-59.6175\"/>\r\n",
       "<polygon fill=\"black\" stroke=\"black\" points=\"90.6302,-56.7558 80.6368,-53.2367 86.2545,-62.2196 90.6302,-56.7558\"/>\r\n",
       "</g>\r\n",
       "<!-- 3 -->\r\n",
       "<g id=\"node4\" class=\"node\"><title>3</title>\r\n",
       "<path fill=\"#399de5\" fill-opacity=\"0.576471\" stroke=\"black\" d=\"M216,-53C216,-53 127,-53 127,-53 121,-53 115,-47 115,-41 115,-41 115,-12 115,-12 115,-6 121,-0 127,-0 127,-0 216,-0 216,-0 222,-0 228,-6 228,-12 228,-12 228,-41 228,-41 228,-47 222,-53 216,-53\"/>\r\n",
       "<text text-anchor=\"start\" x=\"134\" y=\"-37.8\" font-family=\"Helvetica,sans-Serif\" font-size=\"14.00\">gini = 0.418</text>\r\n",
       "<text text-anchor=\"start\" x=\"128\" y=\"-22.8\" font-family=\"Helvetica,sans-Serif\" font-size=\"14.00\">samples = 37</text>\r\n",
       "<text text-anchor=\"start\" x=\"123\" y=\"-7.8\" font-family=\"Helvetica,sans-Serif\" font-size=\"14.00\">value = [11, 26]</text>\r\n",
       "</g>\r\n",
       "<!-- 1&#45;&gt;3 -->\r\n",
       "<g id=\"edge3\" class=\"edge\"><title>1&#45;&gt;3</title>\r\n",
       "<path fill=\"none\" stroke=\"black\" d=\"M168.249,-88.9485C168.684,-80.7153 169.154,-71.848 169.596,-63.4814\"/>\r\n",
       "<polygon fill=\"black\" stroke=\"black\" points=\"173.105,-63.4077 170.138,-53.2367 166.115,-63.0378 173.105,-63.4077\"/>\r\n",
       "</g>\r\n",
       "<!-- 5 -->\r\n",
       "<g id=\"node6\" class=\"node\"><title>5</title>\r\n",
       "<path fill=\"#399de5\" fill-opacity=\"0.886275\" stroke=\"black\" d=\"M365.5,-53C365.5,-53 267.5,-53 267.5,-53 261.5,-53 255.5,-47 255.5,-41 255.5,-41 255.5,-12 255.5,-12 255.5,-6 261.5,-0 267.5,-0 267.5,-0 365.5,-0 365.5,-0 371.5,-0 377.5,-6 377.5,-12 377.5,-12 377.5,-41 377.5,-41 377.5,-47 371.5,-53 365.5,-53\"/>\r\n",
       "<text text-anchor=\"start\" x=\"279\" y=\"-37.8\" font-family=\"Helvetica,sans-Serif\" font-size=\"14.00\">gini = 0.186</text>\r\n",
       "<text text-anchor=\"start\" x=\"269\" y=\"-22.8\" font-family=\"Helvetica,sans-Serif\" font-size=\"14.00\">samples = 280</text>\r\n",
       "<text text-anchor=\"start\" x=\"263.5\" y=\"-7.8\" font-family=\"Helvetica,sans-Serif\" font-size=\"14.00\">value = [29, 251]</text>\r\n",
       "</g>\r\n",
       "<!-- 4&#45;&gt;5 -->\r\n",
       "<g id=\"edge5\" class=\"edge\"><title>4&#45;&gt;5</title>\r\n",
       "<path fill=\"none\" stroke=\"black\" d=\"M319.101,-88.9485C318.752,-80.7153 318.377,-71.848 318.023,-63.4814\"/>\r\n",
       "<polygon fill=\"black\" stroke=\"black\" points=\"321.509,-63.0797 317.589,-53.2367 314.516,-63.3758 321.509,-63.0797\"/>\r\n",
       "</g>\r\n",
       "<!-- 6 -->\r\n",
       "<g id=\"node7\" class=\"node\"><title>6</title>\r\n",
       "<path fill=\"#399de5\" fill-opacity=\"0.964706\" stroke=\"black\" d=\"M505.5,-53C505.5,-53 407.5,-53 407.5,-53 401.5,-53 395.5,-47 395.5,-41 395.5,-41 395.5,-12 395.5,-12 395.5,-6 401.5,-0 407.5,-0 407.5,-0 505.5,-0 505.5,-0 511.5,-0 517.5,-6 517.5,-12 517.5,-12 517.5,-41 517.5,-41 517.5,-47 511.5,-53 505.5,-53\"/>\r\n",
       "<text text-anchor=\"start\" x=\"419\" y=\"-37.8\" font-family=\"Helvetica,sans-Serif\" font-size=\"14.00\">gini = 0.069</text>\r\n",
       "<text text-anchor=\"start\" x=\"409\" y=\"-22.8\" font-family=\"Helvetica,sans-Serif\" font-size=\"14.00\">samples = 780</text>\r\n",
       "<text text-anchor=\"start\" x=\"403.5\" y=\"-7.8\" font-family=\"Helvetica,sans-Serif\" font-size=\"14.00\">value = [28, 752]</text>\r\n",
       "</g>\r\n",
       "<!-- 4&#45;&gt;6 -->\r\n",
       "<g id=\"edge6\" class=\"edge\"><title>4&#45;&gt;6</title>\r\n",
       "<path fill=\"none\" stroke=\"black\" d=\"M368.066,-88.9485C382.022,-79.2516 397.243,-68.6752 411.062,-59.073\"/>\r\n",
       "<polygon fill=\"black\" stroke=\"black\" points=\"413.246,-61.8172 419.461,-53.2367 409.252,-56.0687 413.246,-61.8172\"/>\r\n",
       "</g>\r\n",
       "</g>\r\n",
       "</svg>\r\n"
      ],
      "text/plain": [
       "<graphviz.files.Source at 0x20aea068ef0>"
      ]
     },
     "execution_count": 13,
     "metadata": {},
     "output_type": "execute_result"
    },
    {
     "data": {
      "image/png": "[encoded data removed]",
      "text/plain": [
       "<Figure size 864x288 with 4 Axes>"
      ]
     },
     "metadata": {
      "needs_background": "light"
     },
     "output_type": "display_data"
    }
   ],
   "source": [
    "# Import essential models and functions from sklearn\n",
    "from sklearn.tree import DecisionTreeClassifier\n",
    "from sklearn.model_selection import train_test_split\n",
    "from sklearn.metrics import confusion_matrix\n",
    "from sklearn.tree import export_graphviz\n",
    "import graphviz\n",
    "\n",
    "# Extract Response and Predictors\n",
    "y = pd.DataFrame(houseData['CentralAir'])\n",
    "X = pd.DataFrame(houseData['GrLivArea'])\n",
    "\n",
    "# Split the Dataset into Train and Test\n",
    "X_train, X_test, y_train, y_test = train_test_split(X, y, test_size = 360)\n",
    "\n",
    "# Decision Tree using Train Data\n",
    "dectree = DecisionTreeClassifier(max_depth = 2)  # create the decision tree object\n",
    "dectree.fit(X_train, y_train)                    # train the decision tree model\n",
    "\n",
    "# Predict Response corresponding to Predictors\n",
    "y_train_pred = dectree.predict(X_train)\n",
    "y_test_pred = dectree.predict(X_test)\n",
    "\n",
    "# Check the Goodness of Fit (on Train Data)\n",
    "print(\"Goodness of Fit of Model \\tTrain Dataset\")\n",
    "print(\"Classification Accuracy \\t:\", dectree.score(X_train, y_train))\n",
    "print()\n",
    "\n",
    "# Check the Goodness of Fit (on Test Data)\n",
    "print(\"Goodness of Fit of Model \\tTest Dataset\")\n",
    "print(\"Classification Accuracy \\t:\", dectree.score(X_test, y_test))\n",
    "print()\n",
    "\n",
    "# Plot the Confusion Matrix for Train and Test\n",
    "f, axes = plt.subplots(1, 2, figsize=(12, 4))\n",
    "sb.heatmap(confusion_matrix(y_train, y_train_pred),\n",
    "           annot = True, fmt=\".0f\", annot_kws={\"size\": 18}, ax = axes[0])\n",
    "sb.heatmap(confusion_matrix(y_test, y_test_pred), \n",
    "           annot = True, fmt=\".0f\", annot_kws={\"size\": 18}, ax = axes[1])\n",
    "\n",
    "# Plot the Decision Tree\n",
    "treedot = export_graphviz(dectree,                                      # the model\n",
    "                          feature_names = X_train.columns,              # the features \n",
    "                          out_file = None,                              # output file\n",
    "                          filled = True,                                # node colors\n",
    "                          rounded = True,                               # make pretty\n",
    "                          special_characters = True)                    # postscript\n",
    "\n",
    "graphviz.Source(treedot)"
   ]
  },
  {
   "cell_type": "code",
   "execution_count": null,
   "metadata": {},
   "outputs": [],
   "source": []
  },
  {
   "cell_type": "code",
   "execution_count": 14,
   "metadata": {},
   "outputs": [
    {
     "name": "stdout",
     "output_type": "stream",
     "text": [
      "Goodness of Fit of Model \tTrain Dataset\n",
      "Classification Accuracy \t: 0.9290909090909091\n",
      "\n",
      "Goodness of Fit of Model \tTest Dataset\n",
      "Classification Accuracy \t: 0.9527777777777777\n",
      "\n"
     ]
    },
    {
     "data": {
      "image/svg+xml": [
       "<?xml version=\"1.0\" encoding=\"UTF-8\" standalone=\"no\"?>\r\n",
       "<!DOCTYPE svg PUBLIC \"-//W3C//DTD SVG 1.1//EN\"\r\n",
       " \"http://www.w3.org/Graphics/SVG/1.1/DTD/svg11.dtd\">\r\n",
       "<!-- Generated by graphviz version 2.38.0 (20140413.2041)\r\n",
       " -->\r\n",
       "<!-- Title: Tree Pages: 1 -->\r\n",
       "<svg width=\"534pt\" height=\"269pt\"\r\n",
       " viewBox=\"0.00 0.00 533.50 269.00\" xmlns=\"http://www.w3.org/2000/svg\" xmlns:xlink=\"http://www.w3.org/1999/xlink\">\r\n",
       "<g id=\"graph0\" class=\"graph\" transform=\"scale(1 1) rotate(0) translate(4 265)\">\r\n",
       "<title>Tree</title>\r\n",
       "<polygon fill=\"white\" stroke=\"none\" points=\"-4,4 -4,-265 529.5,-265 529.5,4 -4,4\"/>\r\n",
       "<!-- 0 -->\r\n",
       "<g id=\"node1\" class=\"node\"><title>0</title>\r\n",
       "<path fill=\"#399de5\" fill-opacity=\"0.925490\" stroke=\"black\" d=\"M315,-261C315,-261 209,-261 209,-261 203,-261 197,-255 197,-249 197,-249 197,-205 197,-205 197,-199 203,-193 209,-193 209,-193 315,-193 315,-193 321,-193 327,-199 327,-205 327,-205 327,-249 327,-249 327,-255 321,-261 315,-261\"/>\r\n",
       "<text text-anchor=\"start\" x=\"206.5\" y=\"-245.8\" font-family=\"Helvetica,sans-Serif\" font-size=\"14.00\">LotArea ≤ 8545.0</text>\r\n",
       "<text text-anchor=\"start\" x=\"224.5\" y=\"-230.8\" font-family=\"Helvetica,sans-Serif\" font-size=\"14.00\">gini = 0.132</text>\r\n",
       "<text text-anchor=\"start\" x=\"210.5\" y=\"-215.8\" font-family=\"Helvetica,sans-Serif\" font-size=\"14.00\">samples = 1100</text>\r\n",
       "<text text-anchor=\"start\" x=\"205\" y=\"-200.8\" font-family=\"Helvetica,sans-Serif\" font-size=\"14.00\">value = [78, 1022]</text>\r\n",
       "</g>\r\n",
       "<!-- 1 -->\r\n",
       "<g id=\"node2\" class=\"node\"><title>1</title>\r\n",
       "<path fill=\"#399de5\" fill-opacity=\"0.870588\" stroke=\"black\" d=\"M239.5,-157C239.5,-157 136.5,-157 136.5,-157 130.5,-157 124.5,-151 124.5,-145 124.5,-145 124.5,-101 124.5,-101 124.5,-95 130.5,-89 136.5,-89 136.5,-89 239.5,-89 239.5,-89 245.5,-89 251.5,-95 251.5,-101 251.5,-101 251.5,-145 251.5,-145 251.5,-151 245.5,-157 239.5,-157\"/>\r\n",
       "<text text-anchor=\"start\" x=\"132.5\" y=\"-141.8\" font-family=\"Helvetica,sans-Serif\" font-size=\"14.00\">LotArea ≤ 8466.0</text>\r\n",
       "<text text-anchor=\"start\" x=\"150.5\" y=\"-126.8\" font-family=\"Helvetica,sans-Serif\" font-size=\"14.00\">gini = 0.205</text>\r\n",
       "<text text-anchor=\"start\" x=\"140.5\" y=\"-111.8\" font-family=\"Helvetica,sans-Serif\" font-size=\"14.00\">samples = 423</text>\r\n",
       "<text text-anchor=\"start\" x=\"135\" y=\"-96.8\" font-family=\"Helvetica,sans-Serif\" font-size=\"14.00\">value = [49, 374]</text>\r\n",
       "</g>\r\n",
       "<!-- 0&#45;&gt;1 -->\r\n",
       "<g id=\"edge1\" class=\"edge\"><title>0&#45;&gt;1</title>\r\n",
       "<path fill=\"none\" stroke=\"black\" d=\"M237.974,-192.884C231.641,-184.154 224.728,-174.625 218.118,-165.514\"/>\r\n",
       "<polygon fill=\"black\" stroke=\"black\" points=\"220.864,-163.338 212.158,-157.299 215.198,-167.449 220.864,-163.338\"/>\r\n",
       "<text text-anchor=\"middle\" x=\"208.23\" y=\"-178.289\" font-family=\"Helvetica,sans-Serif\" font-size=\"14.00\">True</text>\r\n",
       "</g>\r\n",
       "<!-- 4 -->\r\n",
       "<g id=\"node5\" class=\"node\"><title>4</title>\r\n",
       "<path fill=\"#399de5\" fill-opacity=\"0.956863\" stroke=\"black\" d=\"M392.5,-157C392.5,-157 281.5,-157 281.5,-157 275.5,-157 269.5,-151 269.5,-145 269.5,-145 269.5,-101 269.5,-101 269.5,-95 275.5,-89 281.5,-89 281.5,-89 392.5,-89 392.5,-89 398.5,-89 404.5,-95 404.5,-101 404.5,-101 404.5,-145 404.5,-145 404.5,-151 398.5,-157 392.5,-157\"/>\r\n",
       "<text text-anchor=\"start\" x=\"277.5\" y=\"-141.8\" font-family=\"Helvetica,sans-Serif\" font-size=\"14.00\">LotArea ≤ 12181.0</text>\r\n",
       "<text text-anchor=\"start\" x=\"299.5\" y=\"-126.8\" font-family=\"Helvetica,sans-Serif\" font-size=\"14.00\">gini = 0.082</text>\r\n",
       "<text text-anchor=\"start\" x=\"289.5\" y=\"-111.8\" font-family=\"Helvetica,sans-Serif\" font-size=\"14.00\">samples = 677</text>\r\n",
       "<text text-anchor=\"start\" x=\"284\" y=\"-96.8\" font-family=\"Helvetica,sans-Serif\" font-size=\"14.00\">value = [29, 648]</text>\r\n",
       "</g>\r\n",
       "<!-- 0&#45;&gt;4 -->\r\n",
       "<g id=\"edge4\" class=\"edge\"><title>0&#45;&gt;4</title>\r\n",
       "<path fill=\"none\" stroke=\"black\" d=\"M286.35,-192.884C292.769,-184.154 299.776,-174.625 306.475,-165.514\"/>\r\n",
       "<polygon fill=\"black\" stroke=\"black\" points=\"309.411,-167.429 312.515,-157.299 303.771,-163.283 309.411,-167.429\"/>\r\n",
       "<text text-anchor=\"middle\" x=\"316.285\" y=\"-178.313\" font-family=\"Helvetica,sans-Serif\" font-size=\"14.00\">False</text>\r\n",
       "</g>\r\n",
       "<!-- 2 -->\r\n",
       "<g id=\"node3\" class=\"node\"><title>2</title>\r\n",
       "<path fill=\"#399de5\" fill-opacity=\"0.882353\" stroke=\"black\" d=\"M110,-53C110,-53 12,-53 12,-53 6,-53 7.10543e-015,-47 7.10543e-015,-41 7.10543e-015,-41 7.10543e-015,-12 7.10543e-015,-12 7.10543e-015,-6 6,-0 12,-0 12,-0 110,-0 110,-0 116,-0 122,-6 122,-12 122,-12 122,-41 122,-41 122,-47 116,-53 110,-53\"/>\r\n",
       "<text text-anchor=\"start\" x=\"23.5\" y=\"-37.8\" font-family=\"Helvetica,sans-Serif\" font-size=\"14.00\">gini = 0.187</text>\r\n",
       "<text text-anchor=\"start\" x=\"13.5\" y=\"-22.8\" font-family=\"Helvetica,sans-Serif\" font-size=\"14.00\">samples = 403</text>\r\n",
       "<text text-anchor=\"start\" x=\"8\" y=\"-7.8\" font-family=\"Helvetica,sans-Serif\" font-size=\"14.00\">value = [42, 361]</text>\r\n",
       "</g>\r\n",
       "<!-- 1&#45;&gt;2 -->\r\n",
       "<g id=\"edge2\" class=\"edge\"><title>1&#45;&gt;2</title>\r\n",
       "<path fill=\"none\" stroke=\"black\" d=\"M143.582,-88.9485C130.673,-79.3431 116.604,-68.8747 103.797,-59.345\"/>\r\n",
       "<polygon fill=\"black\" stroke=\"black\" points=\"105.7,-56.3984 95.588,-53.2367 101.521,-62.0143 105.7,-56.3984\"/>\r\n",
       "</g>\r\n",
       "<!-- 3 -->\r\n",
       "<g id=\"node4\" class=\"node\"><title>3</title>\r\n",
       "<path fill=\"#399de5\" fill-opacity=\"0.462745\" stroke=\"black\" d=\"M233.5,-53C233.5,-53 152.5,-53 152.5,-53 146.5,-53 140.5,-47 140.5,-41 140.5,-41 140.5,-12 140.5,-12 140.5,-6 146.5,-0 152.5,-0 152.5,-0 233.5,-0 233.5,-0 239.5,-0 245.5,-6 245.5,-12 245.5,-12 245.5,-41 245.5,-41 245.5,-47 239.5,-53 233.5,-53\"/>\r\n",
       "<text text-anchor=\"start\" x=\"155.5\" y=\"-37.8\" font-family=\"Helvetica,sans-Serif\" font-size=\"14.00\">gini = 0.455</text>\r\n",
       "<text text-anchor=\"start\" x=\"149.5\" y=\"-22.8\" font-family=\"Helvetica,sans-Serif\" font-size=\"14.00\">samples = 20</text>\r\n",
       "<text text-anchor=\"start\" x=\"148.5\" y=\"-7.8\" font-family=\"Helvetica,sans-Serif\" font-size=\"14.00\">value = [7, 13]</text>\r\n",
       "</g>\r\n",
       "<!-- 1&#45;&gt;3 -->\r\n",
       "<g id=\"edge3\" class=\"edge\"><title>1&#45;&gt;3</title>\r\n",
       "<path fill=\"none\" stroke=\"black\" d=\"M189.749,-88.9485C190.184,-80.7153 190.654,-71.848 191.096,-63.4814\"/>\r\n",
       "<polygon fill=\"black\" stroke=\"black\" points=\"194.605,-63.4077 191.638,-53.2367 187.615,-63.0378 194.605,-63.4077\"/>\r\n",
       "</g>\r\n",
       "<!-- 5 -->\r\n",
       "<g id=\"node6\" class=\"node\"><title>5</title>\r\n",
       "<path fill=\"#399de5\" fill-opacity=\"0.941176\" stroke=\"black\" d=\"M382,-53C382,-53 284,-53 284,-53 278,-53 272,-47 272,-41 272,-41 272,-12 272,-12 272,-6 278,-0 284,-0 284,-0 382,-0 382,-0 388,-0 394,-6 394,-12 394,-12 394,-41 394,-41 394,-47 388,-53 382,-53\"/>\r\n",
       "<text text-anchor=\"start\" x=\"295.5\" y=\"-37.8\" font-family=\"Helvetica,sans-Serif\" font-size=\"14.00\">gini = 0.108</text>\r\n",
       "<text text-anchor=\"start\" x=\"285.5\" y=\"-22.8\" font-family=\"Helvetica,sans-Serif\" font-size=\"14.00\">samples = 456</text>\r\n",
       "<text text-anchor=\"start\" x=\"280\" y=\"-7.8\" font-family=\"Helvetica,sans-Serif\" font-size=\"14.00\">value = [26, 430]</text>\r\n",
       "</g>\r\n",
       "<!-- 4&#45;&gt;5 -->\r\n",
       "<g id=\"edge5\" class=\"edge\"><title>4&#45;&gt;5</title>\r\n",
       "<path fill=\"none\" stroke=\"black\" d=\"M335.601,-88.9485C335.252,-80.7153 334.877,-71.848 334.523,-63.4814\"/>\r\n",
       "<polygon fill=\"black\" stroke=\"black\" points=\"338.009,-63.0797 334.089,-53.2367 331.016,-63.3758 338.009,-63.0797\"/>\r\n",
       "</g>\r\n",
       "<!-- 6 -->\r\n",
       "<g id=\"node7\" class=\"node\"><title>6</title>\r\n",
       "<path fill=\"#399de5\" fill-opacity=\"0.984314\" stroke=\"black\" d=\"M513.5,-53C513.5,-53 424.5,-53 424.5,-53 418.5,-53 412.5,-47 412.5,-41 412.5,-41 412.5,-12 412.5,-12 412.5,-6 418.5,-0 424.5,-0 424.5,-0 513.5,-0 513.5,-0 519.5,-0 525.5,-6 525.5,-12 525.5,-12 525.5,-41 525.5,-41 525.5,-47 519.5,-53 513.5,-53\"/>\r\n",
       "<text text-anchor=\"start\" x=\"431.5\" y=\"-37.8\" font-family=\"Helvetica,sans-Serif\" font-size=\"14.00\">gini = 0.027</text>\r\n",
       "<text text-anchor=\"start\" x=\"421.5\" y=\"-22.8\" font-family=\"Helvetica,sans-Serif\" font-size=\"14.00\">samples = 221</text>\r\n",
       "<text text-anchor=\"start\" x=\"420.5\" y=\"-7.8\" font-family=\"Helvetica,sans-Serif\" font-size=\"14.00\">value = [3, 218]</text>\r\n",
       "</g>\r\n",
       "<!-- 4&#45;&gt;6 -->\r\n",
       "<g id=\"edge6\" class=\"edge\"><title>4&#45;&gt;6</title>\r\n",
       "<path fill=\"none\" stroke=\"black\" d=\"M383.167,-88.9485C396.712,-79.2516 411.485,-68.6752 424.898,-59.073\"/>\r\n",
       "<polygon fill=\"black\" stroke=\"black\" points=\"426.957,-61.9038 433.05,-53.2367 422.882,-56.212 426.957,-61.9038\"/>\r\n",
       "</g>\r\n",
       "</g>\r\n",
       "</svg>\r\n"
      ],
      "text/plain": [
       "<graphviz.files.Source at 0x20aea26e048>"
      ]
     },
     "execution_count": 14,
     "metadata": {},
     "output_type": "execute_result"
    },
    {
     "data": {
      "image/png": "[encoded data removed]",
      "text/plain": [
       "<Figure size 864x288 with 4 Axes>"
      ]
     },
     "metadata": {
      "needs_background": "light"
     },
     "output_type": "display_data"
    }
   ],
   "source": [
    "# Import essential models and functions from sklearn\n",
    "from sklearn.tree import DecisionTreeClassifier\n",
    "from sklearn.model_selection import train_test_split\n",
    "from sklearn.metrics import confusion_matrix\n",
    "from sklearn.tree import export_graphviz\n",
    "import graphviz\n",
    "\n",
    "# Extract Response and Predictors\n",
    "y = pd.DataFrame(houseData['CentralAir'])\n",
    "X = pd.DataFrame(houseData['LotArea'])\n",
    "\n",
    "# Split the Dataset into Train and Test\n",
    "X_train, X_test, y_train, y_test = train_test_split(X, y, test_size = 360)\n",
    "\n",
    "# Decision Tree using Train Data\n",
    "dectree = DecisionTreeClassifier(max_depth = 2)  # create the decision tree object\n",
    "dectree.fit(X_train, y_train)                    # train the decision tree model\n",
    "\n",
    "# Predict Response corresponding to Predictors\n",
    "y_train_pred = dectree.predict(X_train)\n",
    "y_test_pred = dectree.predict(X_test)\n",
    "\n",
    "# Check the Goodness of Fit (on Train Data)\n",
    "print(\"Goodness of Fit of Model \\tTrain Dataset\")\n",
    "print(\"Classification Accuracy \\t:\", dectree.score(X_train, y_train))\n",
    "print()\n",
    "\n",
    "# Check the Goodness of Fit (on Test Data)\n",
    "print(\"Goodness of Fit of Model \\tTest Dataset\")\n",
    "print(\"Classification Accuracy \\t:\", dectree.score(X_test, y_test))\n",
    "print()\n",
    "\n",
    "# Plot the Confusion Matrix for Train and Test\n",
    "f, axes = plt.subplots(1, 2, figsize=(12, 4))\n",
    "sb.heatmap(confusion_matrix(y_train, y_train_pred),\n",
    "           annot = True, fmt=\".0f\", annot_kws={\"size\": 18}, ax = axes[0])\n",
    "sb.heatmap(confusion_matrix(y_test, y_test_pred), \n",
    "           annot = True, fmt=\".0f\", annot_kws={\"size\": 18}, ax = axes[1])\n",
    "\n",
    "# Plot the Decision Tree\n",
    "treedot = export_graphviz(dectree,                                      # the model\n",
    "                          feature_names = X_train.columns,              # the features \n",
    "                          out_file = None,                              # output file\n",
    "                          filled = True,                                # node colors\n",
    "                          rounded = True,                               # make pretty\n",
    "                          special_characters = True)                    # postscript\n",
    "\n",
    "graphviz.Source(treedot)"
   ]
  },
  {
   "cell_type": "code",
   "execution_count": null,
   "metadata": {},
   "outputs": [],
   "source": []
  },
  {
   "cell_type": "code",
   "execution_count": 15,
   "metadata": {},
   "outputs": [
    {
     "name": "stdout",
     "output_type": "stream",
     "text": [
      "Goodness of Fit of Model \tTrain Dataset\n",
      "Classification Accuracy \t: 0.9345454545454546\n",
      "\n",
      "Goodness of Fit of Model \tTest Dataset\n",
      "Classification Accuracy \t: 0.9361111111111111\n",
      "\n"
     ]
    },
    {
     "data": {
      "image/svg+xml": [
       "<?xml version=\"1.0\" encoding=\"UTF-8\" standalone=\"no\"?>\r\n",
       "<!DOCTYPE svg PUBLIC \"-//W3C//DTD SVG 1.1//EN\"\r\n",
       " \"http://www.w3.org/Graphics/SVG/1.1/DTD/svg11.dtd\">\r\n",
       "<!-- Generated by graphviz version 2.38.0 (20140413.2041)\r\n",
       " -->\r\n",
       "<!-- Title: Tree Pages: 1 -->\r\n",
       "<svg width=\"344pt\" height=\"269pt\"\r\n",
       " viewBox=\"0.00 0.00 344.00 269.00\" xmlns=\"http://www.w3.org/2000/svg\" xmlns:xlink=\"http://www.w3.org/1999/xlink\">\r\n",
       "<g id=\"graph0\" class=\"graph\" transform=\"scale(1 1) rotate(0) translate(4 265)\">\r\n",
       "<title>Tree</title>\r\n",
       "<polygon fill=\"white\" stroke=\"none\" points=\"-4,4 -4,-265 340,-265 340,4 -4,4\"/>\r\n",
       "<!-- 0 -->\r\n",
       "<g id=\"node1\" class=\"node\"><title>0</title>\r\n",
       "<path fill=\"#399de5\" fill-opacity=\"0.929412\" stroke=\"black\" d=\"M193,-261C193,-261 74,-261 74,-261 68,-261 62,-255 62,-249 62,-249 62,-205 62,-205 62,-199 68,-193 74,-193 74,-193 193,-193 193,-193 199,-193 205,-199 205,-205 205,-205 205,-249 205,-249 205,-255 199,-261 193,-261\"/>\r\n",
       "<text text-anchor=\"start\" x=\"70\" y=\"-245.8\" font-family=\"Helvetica,sans-Serif\" font-size=\"14.00\">TotalBsmtSF ≤ 52.5</text>\r\n",
       "<text text-anchor=\"start\" x=\"96\" y=\"-230.8\" font-family=\"Helvetica,sans-Serif\" font-size=\"14.00\">gini = 0.122</text>\r\n",
       "<text text-anchor=\"start\" x=\"82\" y=\"-215.8\" font-family=\"Helvetica,sans-Serif\" font-size=\"14.00\">samples = 1100</text>\r\n",
       "<text text-anchor=\"start\" x=\"76.5\" y=\"-200.8\" font-family=\"Helvetica,sans-Serif\" font-size=\"14.00\">value = [72, 1028]</text>\r\n",
       "</g>\r\n",
       "<!-- 1 -->\r\n",
       "<g id=\"node2\" class=\"node\"><title>1</title>\r\n",
       "<path fill=\"#399de5\" fill-opacity=\"0.200000\" stroke=\"black\" d=\"M101,-149.5C101,-149.5 12,-149.5 12,-149.5 6,-149.5 0,-143.5 0,-137.5 0,-137.5 0,-108.5 0,-108.5 0,-102.5 6,-96.5 12,-96.5 12,-96.5 101,-96.5 101,-96.5 107,-96.5 113,-102.5 113,-108.5 113,-108.5 113,-137.5 113,-137.5 113,-143.5 107,-149.5 101,-149.5\"/>\r\n",
       "<text text-anchor=\"start\" x=\"19\" y=\"-134.3\" font-family=\"Helvetica,sans-Serif\" font-size=\"14.00\">gini = 0.494</text>\r\n",
       "<text text-anchor=\"start\" x=\"13\" y=\"-119.3\" font-family=\"Helvetica,sans-Serif\" font-size=\"14.00\">samples = 27</text>\r\n",
       "<text text-anchor=\"start\" x=\"8\" y=\"-104.3\" font-family=\"Helvetica,sans-Serif\" font-size=\"14.00\">value = [12, 15]</text>\r\n",
       "</g>\r\n",
       "<!-- 0&#45;&gt;1 -->\r\n",
       "<g id=\"edge1\" class=\"edge\"><title>0&#45;&gt;1</title>\r\n",
       "<path fill=\"none\" stroke=\"black\" d=\"M108.5,-192.884C99.9489,-181.556 90.3801,-168.88 81.8048,-157.521\"/>\r\n",
       "<polygon fill=\"black\" stroke=\"black\" points=\"84.5835,-155.392 75.765,-149.52 78.9967,-159.61 84.5835,-155.392\"/>\r\n",
       "<text text-anchor=\"middle\" x=\"72.307\" y=\"-170.58\" font-family=\"Helvetica,sans-Serif\" font-size=\"14.00\">True</text>\r\n",
       "</g>\r\n",
       "<!-- 2 -->\r\n",
       "<g id=\"node3\" class=\"node\"><title>2</title>\r\n",
       "<path fill=\"#399de5\" fill-opacity=\"0.941176\" stroke=\"black\" d=\"M279.5,-157C279.5,-157 143.5,-157 143.5,-157 137.5,-157 131.5,-151 131.5,-145 131.5,-145 131.5,-101 131.5,-101 131.5,-95 137.5,-89 143.5,-89 143.5,-89 279.5,-89 279.5,-89 285.5,-89 291.5,-95 291.5,-101 291.5,-101 291.5,-145 291.5,-145 291.5,-151 285.5,-157 279.5,-157\"/>\r\n",
       "<text text-anchor=\"start\" x=\"139.5\" y=\"-141.8\" font-family=\"Helvetica,sans-Serif\" font-size=\"14.00\">TotalBsmtSF ≤ 1023.0</text>\r\n",
       "<text text-anchor=\"start\" x=\"174\" y=\"-126.8\" font-family=\"Helvetica,sans-Serif\" font-size=\"14.00\">gini = 0.106</text>\r\n",
       "<text text-anchor=\"start\" x=\"160\" y=\"-111.8\" font-family=\"Helvetica,sans-Serif\" font-size=\"14.00\">samples = 1073</text>\r\n",
       "<text text-anchor=\"start\" x=\"154.5\" y=\"-96.8\" font-family=\"Helvetica,sans-Serif\" font-size=\"14.00\">value = [60, 1013]</text>\r\n",
       "</g>\r\n",
       "<!-- 0&#45;&gt;2 -->\r\n",
       "<g id=\"edge2\" class=\"edge\"><title>0&#45;&gt;2</title>\r\n",
       "<path fill=\"none\" stroke=\"black\" d=\"M158.824,-192.884C165.5,-184.154 172.787,-174.625 179.754,-165.514\"/>\r\n",
       "<polygon fill=\"black\" stroke=\"black\" points=\"182.742,-167.369 186.036,-157.299 177.181,-163.117 182.742,-167.369\"/>\r\n",
       "<text text-anchor=\"middle\" x=\"189.34\" y=\"-178.38\" font-family=\"Helvetica,sans-Serif\" font-size=\"14.00\">False</text>\r\n",
       "</g>\r\n",
       "<!-- 3 -->\r\n",
       "<g id=\"node4\" class=\"node\"><title>3</title>\r\n",
       "<path fill=\"#399de5\" fill-opacity=\"0.894118\" stroke=\"black\" d=\"M192.5,-53C192.5,-53 94.5,-53 94.5,-53 88.5,-53 82.5,-47 82.5,-41 82.5,-41 82.5,-12 82.5,-12 82.5,-6 88.5,-0 94.5,-0 94.5,-0 192.5,-0 192.5,-0 198.5,-0 204.5,-6 204.5,-12 204.5,-12 204.5,-41 204.5,-41 204.5,-47 198.5,-53 192.5,-53\"/>\r\n",
       "<text text-anchor=\"start\" x=\"106\" y=\"-37.8\" font-family=\"Helvetica,sans-Serif\" font-size=\"14.00\">gini = 0.176</text>\r\n",
       "<text text-anchor=\"start\" x=\"96\" y=\"-22.8\" font-family=\"Helvetica,sans-Serif\" font-size=\"14.00\">samples = 545</text>\r\n",
       "<text text-anchor=\"start\" x=\"90.5\" y=\"-7.8\" font-family=\"Helvetica,sans-Serif\" font-size=\"14.00\">value = [53, 492]</text>\r\n",
       "</g>\r\n",
       "<!-- 2&#45;&gt;3 -->\r\n",
       "<g id=\"edge3\" class=\"edge\"><title>2&#45;&gt;3</title>\r\n",
       "<path fill=\"none\" stroke=\"black\" d=\"M187.717,-88.9485C181.332,-80.0749 174.416,-70.4648 167.993,-61.5388\"/>\r\n",
       "<polygon fill=\"black\" stroke=\"black\" points=\"170.701,-59.3094 162.02,-53.2367 165.019,-63.398 170.701,-59.3094\"/>\r\n",
       "</g>\r\n",
       "<!-- 4 -->\r\n",
       "<g id=\"node5\" class=\"node\"><title>4</title>\r\n",
       "<path fill=\"#399de5\" fill-opacity=\"0.988235\" stroke=\"black\" d=\"M324,-53C324,-53 235,-53 235,-53 229,-53 223,-47 223,-41 223,-41 223,-12 223,-12 223,-6 229,-0 235,-0 235,-0 324,-0 324,-0 330,-0 336,-6 336,-12 336,-12 336,-41 336,-41 336,-47 330,-53 324,-53\"/>\r\n",
       "<text text-anchor=\"start\" x=\"242\" y=\"-37.8\" font-family=\"Helvetica,sans-Serif\" font-size=\"14.00\">gini = 0.026</text>\r\n",
       "<text text-anchor=\"start\" x=\"232\" y=\"-22.8\" font-family=\"Helvetica,sans-Serif\" font-size=\"14.00\">samples = 528</text>\r\n",
       "<text text-anchor=\"start\" x=\"231\" y=\"-7.8\" font-family=\"Helvetica,sans-Serif\" font-size=\"14.00\">value = [7, 521]</text>\r\n",
       "</g>\r\n",
       "<!-- 2&#45;&gt;4 -->\r\n",
       "<g id=\"edge4\" class=\"edge\"><title>2&#45;&gt;4</title>\r\n",
       "<path fill=\"none\" stroke=\"black\" d=\"M235.283,-88.9485C241.668,-80.0749 248.584,-70.4648 255.007,-61.5388\"/>\r\n",
       "<polygon fill=\"black\" stroke=\"black\" points=\"257.981,-63.398 260.98,-53.2367 252.299,-59.3094 257.981,-63.398\"/>\r\n",
       "</g>\r\n",
       "</g>\r\n",
       "</svg>\r\n"
      ],
      "text/plain": [
       "<graphviz.files.Source at 0x20aea26e5c0>"
      ]
     },
     "execution_count": 15,
     "metadata": {},
     "output_type": "execute_result"
    },
    {
     "data": {
      "image/png": "[encoded data removed]",
      "text/plain": [
       "<Figure size 864x288 with 4 Axes>"
      ]
     },
     "metadata": {
      "needs_background": "light"
     },
     "output_type": "display_data"
    }
   ],
   "source": [
    "# Import essential models and functions from sklearn\n",
    "from sklearn.tree import DecisionTreeClassifier\n",
    "from sklearn.model_selection import train_test_split\n",
    "from sklearn.metrics import confusion_matrix\n",
    "from sklearn.tree import export_graphviz\n",
    "import graphviz\n",
    "\n",
    "# Extract Response and Predictors\n",
    "y = pd.DataFrame(houseData['CentralAir'])\n",
    "X = pd.DataFrame(houseData['TotalBsmtSF'])\n",
    "\n",
    "# Split the Dataset into Train and Test\n",
    "X_train, X_test, y_train, y_test = train_test_split(X, y, test_size = 360)\n",
    "\n",
    "# Decision Tree using Train Data\n",
    "dectree = DecisionTreeClassifier(max_depth = 2)  # create the decision tree object\n",
    "dectree.fit(X_train, y_train)                    # train the decision tree model\n",
    "\n",
    "# Predict Response corresponding to Predictors\n",
    "y_train_pred = dectree.predict(X_train)\n",
    "y_test_pred = dectree.predict(X_test)\n",
    "\n",
    "# Check the Goodness of Fit (on Train Data)\n",
    "print(\"Goodness of Fit of Model \\tTrain Dataset\")\n",
    "print(\"Classification Accuracy \\t:\", dectree.score(X_train, y_train))\n",
    "print()\n",
    "\n",
    "# Check the Goodness of Fit (on Test Data)\n",
    "print(\"Goodness of Fit of Model \\tTest Dataset\")\n",
    "print(\"Classification Accuracy \\t:\", dectree.score(X_test, y_test))\n",
    "print()\n",
    "\n",
    "# Plot the Confusion Matrix for Train and Test\n",
    "f, axes = plt.subplots(1, 2, figsize=(12, 4))\n",
    "sb.heatmap(confusion_matrix(y_train, y_train_pred),\n",
    "           annot = True, fmt=\".0f\", annot_kws={\"size\": 18}, ax = axes[0])\n",
    "sb.heatmap(confusion_matrix(y_test, y_test_pred), \n",
    "           annot = True, fmt=\".0f\", annot_kws={\"size\": 18}, ax = axes[1])\n",
    "\n",
    "# Plot the Decision Tree\n",
    "treedot = export_graphviz(dectree,                                      # the model\n",
    "                          feature_names = X_train.columns,              # the features \n",
    "                          out_file = None,                              # output file\n",
    "                          filled = True,                                # node colors\n",
    "                          rounded = True,                               # make pretty\n",
    "                          special_characters = True)                    # postscript\n",
    "\n",
    "graphviz.Source(treedot)"
   ]
  },
  {
   "cell_type": "code",
   "execution_count": null,
   "metadata": {},
   "outputs": [],
   "source": []
  },
  {
   "cell_type": "markdown",
   "metadata": {},
   "source": [
    "Now that you have obtained Decision Tree of `CentralAir` against the four variables `SalePrice`, `GrLivArea`, `LotArea`, `TotalBsmtSF`, compare the Classification Accuracy (and other accuracy parameters) to determine which model is the best in order to predict `CentralAir`. What do you think?"
   ]
  },
  {
   "cell_type": "code",
   "execution_count": null,
   "metadata": {},
   "outputs": [],
   "source": []
  },
  {
   "cell_type": "markdown",
   "metadata": {},
   "source": [
    "---\n",
    "\n",
    "## Extra : Predicting CentralAir using All Variables\n",
    "\n",
    "Use all the other variables from the dataset to predict `CentralAir`, as mentioned in the problem.     "
   ]
  },
  {
   "cell_type": "code",
   "execution_count": 16,
   "metadata": {},
   "outputs": [
    {
     "name": "stdout",
     "output_type": "stream",
     "text": [
      "Goodness of Fit of Model \tTrain Dataset\n",
      "Classification Accuracy \t: 0.9418181818181818\n",
      "\n",
      "Goodness of Fit of Model \tTest Dataset\n",
      "Classification Accuracy \t: 0.9222222222222223\n",
      "\n"
     ]
    },
    {
     "data": {
      "image/svg+xml": [
       "<?xml version=\"1.0\" encoding=\"UTF-8\" standalone=\"no\"?>\r\n",
       "<!DOCTYPE svg PUBLIC \"-//W3C//DTD SVG 1.1//EN\"\r\n",
       " \"http://www.w3.org/Graphics/SVG/1.1/DTD/svg11.dtd\">\r\n",
       "<!-- Generated by graphviz version 2.38.0 (20140413.2041)\r\n",
       " -->\r\n",
       "<!-- Title: Tree Pages: 1 -->\r\n",
       "<svg width=\"536pt\" height=\"269pt\"\r\n",
       " viewBox=\"0.00 0.00 535.50 269.00\" xmlns=\"http://www.w3.org/2000/svg\" xmlns:xlink=\"http://www.w3.org/1999/xlink\">\r\n",
       "<g id=\"graph0\" class=\"graph\" transform=\"scale(1 1) rotate(0) translate(4 265)\">\r\n",
       "<title>Tree</title>\r\n",
       "<polygon fill=\"white\" stroke=\"none\" points=\"-4,4 -4,-265 531.5,-265 531.5,4 -4,4\"/>\r\n",
       "<!-- 0 -->\r\n",
       "<g id=\"node1\" class=\"node\"><title>0</title>\r\n",
       "<path fill=\"#399de5\" fill-opacity=\"0.929412\" stroke=\"black\" d=\"M313.5,-261C313.5,-261 191.5,-261 191.5,-261 185.5,-261 179.5,-255 179.5,-249 179.5,-249 179.5,-205 179.5,-205 179.5,-199 185.5,-193 191.5,-193 191.5,-193 313.5,-193 313.5,-193 319.5,-193 325.5,-199 325.5,-205 325.5,-205 325.5,-249 325.5,-249 325.5,-255 319.5,-261 313.5,-261\"/>\r\n",
       "<text text-anchor=\"start\" x=\"187.5\" y=\"-245.8\" font-family=\"Helvetica,sans-Serif\" font-size=\"14.00\">SalePrice ≤ 98300.0</text>\r\n",
       "<text text-anchor=\"start\" x=\"215\" y=\"-230.8\" font-family=\"Helvetica,sans-Serif\" font-size=\"14.00\">gini = 0.121</text>\r\n",
       "<text text-anchor=\"start\" x=\"201\" y=\"-215.8\" font-family=\"Helvetica,sans-Serif\" font-size=\"14.00\">samples = 1100</text>\r\n",
       "<text text-anchor=\"start\" x=\"195.5\" y=\"-200.8\" font-family=\"Helvetica,sans-Serif\" font-size=\"14.00\">value = [71, 1029]</text>\r\n",
       "</g>\r\n",
       "<!-- 1 -->\r\n",
       "<g id=\"node2\" class=\"node\"><title>1</title>\r\n",
       "<path fill=\"#399de5\" fill-opacity=\"0.133333\" stroke=\"black\" d=\"M225,-157C225,-157 122,-157 122,-157 116,-157 110,-151 110,-145 110,-145 110,-101 110,-101 110,-95 116,-89 122,-89 122,-89 225,-89 225,-89 231,-89 237,-95 237,-101 237,-101 237,-145 237,-145 237,-151 231,-157 225,-157\"/>\r\n",
       "<text text-anchor=\"start\" x=\"118\" y=\"-141.8\" font-family=\"Helvetica,sans-Serif\" font-size=\"14.00\">LotArea ≤ 3114.0</text>\r\n",
       "<text text-anchor=\"start\" x=\"136\" y=\"-126.8\" font-family=\"Helvetica,sans-Serif\" font-size=\"14.00\">gini = 0.497</text>\r\n",
       "<text text-anchor=\"start\" x=\"130\" y=\"-111.8\" font-family=\"Helvetica,sans-Serif\" font-size=\"14.00\">samples = 84</text>\r\n",
       "<text text-anchor=\"start\" x=\"125\" y=\"-96.8\" font-family=\"Helvetica,sans-Serif\" font-size=\"14.00\">value = [39, 45]</text>\r\n",
       "</g>\r\n",
       "<!-- 0&#45;&gt;1 -->\r\n",
       "<g id=\"edge1\" class=\"edge\"><title>0&#45;&gt;1</title>\r\n",
       "<path fill=\"none\" stroke=\"black\" d=\"M226.851,-192.884C220.021,-184.065 212.559,-174.43 205.437,-165.235\"/>\r\n",
       "<polygon fill=\"black\" stroke=\"black\" points=\"208.181,-163.062 199.291,-157.299 202.647,-167.349 208.181,-163.062\"/>\r\n",
       "<text text-anchor=\"middle\" x=\"196.139\" y=\"-178.4\" font-family=\"Helvetica,sans-Serif\" font-size=\"14.00\">True</text>\r\n",
       "</g>\r\n",
       "<!-- 4 -->\r\n",
       "<g id=\"node5\" class=\"node\"><title>4</title>\r\n",
       "<path fill=\"#399de5\" fill-opacity=\"0.968627\" stroke=\"black\" d=\"M398,-157C398,-157 267,-157 267,-157 261,-157 255,-151 255,-145 255,-145 255,-101 255,-101 255,-95 261,-89 267,-89 267,-89 398,-89 398,-89 404,-89 410,-95 410,-101 410,-101 410,-145 410,-145 410,-151 404,-157 398,-157\"/>\r\n",
       "<text text-anchor=\"start\" x=\"263\" y=\"-141.8\" font-family=\"Helvetica,sans-Serif\" font-size=\"14.00\">SalePrice ≤ 138200.0</text>\r\n",
       "<text text-anchor=\"start\" x=\"295\" y=\"-126.8\" font-family=\"Helvetica,sans-Serif\" font-size=\"14.00\">gini = 0.061</text>\r\n",
       "<text text-anchor=\"start\" x=\"281\" y=\"-111.8\" font-family=\"Helvetica,sans-Serif\" font-size=\"14.00\">samples = 1016</text>\r\n",
       "<text text-anchor=\"start\" x=\"279.5\" y=\"-96.8\" font-family=\"Helvetica,sans-Serif\" font-size=\"14.00\">value = [32, 984]</text>\r\n",
       "</g>\r\n",
       "<!-- 0&#45;&gt;4 -->\r\n",
       "<g id=\"edge4\" class=\"edge\"><title>0&#45;&gt;4</title>\r\n",
       "<path fill=\"none\" stroke=\"black\" d=\"M278.474,-192.884C285.39,-184.065 292.947,-174.43 300.159,-165.235\"/>\r\n",
       "<polygon fill=\"black\" stroke=\"black\" points=\"302.965,-167.328 306.383,-157.299 297.457,-163.008 302.965,-167.328\"/>\r\n",
       "<text text-anchor=\"middle\" x=\"309.383\" y=\"-178.419\" font-family=\"Helvetica,sans-Serif\" font-size=\"14.00\">False</text>\r\n",
       "</g>\r\n",
       "<!-- 2 -->\r\n",
       "<g id=\"node3\" class=\"node\"><title>2</title>\r\n",
       "<path fill=\"#399de5\" stroke=\"black\" d=\"M93,-53C93,-53 12,-53 12,-53 6,-53 0,-47 0,-41 0,-41 0,-12 0,-12 0,-6 6,-0 12,-0 12,-0 93,-0 93,-0 99,-0 105,-6 105,-12 105,-12 105,-41 105,-41 105,-47 99,-53 93,-53\"/>\r\n",
       "<text text-anchor=\"start\" x=\"23.5\" y=\"-37.8\" font-family=\"Helvetica,sans-Serif\" font-size=\"14.00\">gini = 0.0</text>\r\n",
       "<text text-anchor=\"start\" x=\"9\" y=\"-22.8\" font-family=\"Helvetica,sans-Serif\" font-size=\"14.00\">samples = 13</text>\r\n",
       "<text text-anchor=\"start\" x=\"8\" y=\"-7.8\" font-family=\"Helvetica,sans-Serif\" font-size=\"14.00\">value = [0, 13]</text>\r\n",
       "</g>\r\n",
       "<!-- 1&#45;&gt;2 -->\r\n",
       "<g id=\"edge2\" class=\"edge\"><title>1&#45;&gt;2</title>\r\n",
       "<path fill=\"none\" stroke=\"black\" d=\"M131.18,-88.9485C118.998,-79.4346 105.732,-69.074 93.624,-59.6175\"/>\r\n",
       "<polygon fill=\"black\" stroke=\"black\" points=\"95.4895,-56.6335 85.4539,-53.2367 91.1808,-62.1504 95.4895,-56.6335\"/>\r\n",
       "</g>\r\n",
       "<!-- 3 -->\r\n",
       "<g id=\"node4\" class=\"node\"><title>3</title>\r\n",
       "<path fill=\"#e58139\" fill-opacity=\"0.180392\" stroke=\"black\" d=\"M224,-53C224,-53 135,-53 135,-53 129,-53 123,-47 123,-41 123,-41 123,-12 123,-12 123,-6 129,-0 135,-0 135,-0 224,-0 224,-0 230,-0 236,-6 236,-12 236,-12 236,-41 236,-41 236,-47 230,-53 224,-53\"/>\r\n",
       "<text text-anchor=\"start\" x=\"142\" y=\"-37.8\" font-family=\"Helvetica,sans-Serif\" font-size=\"14.00\">gini = 0.495</text>\r\n",
       "<text text-anchor=\"start\" x=\"136\" y=\"-22.8\" font-family=\"Helvetica,sans-Serif\" font-size=\"14.00\">samples = 71</text>\r\n",
       "<text text-anchor=\"start\" x=\"131\" y=\"-7.8\" font-family=\"Helvetica,sans-Serif\" font-size=\"14.00\">value = [39, 32]</text>\r\n",
       "</g>\r\n",
       "<!-- 1&#45;&gt;3 -->\r\n",
       "<g id=\"edge3\" class=\"edge\"><title>1&#45;&gt;3</title>\r\n",
       "<path fill=\"none\" stroke=\"black\" d=\"M175.599,-88.9485C176.121,-80.7153 176.684,-71.848 177.215,-63.4814\"/>\r\n",
       "<polygon fill=\"black\" stroke=\"black\" points=\"180.725,-63.4384 177.866,-53.2367 173.739,-62.9948 180.725,-63.4384\"/>\r\n",
       "</g>\r\n",
       "<!-- 5 -->\r\n",
       "<g id=\"node6\" class=\"node\"><title>5</title>\r\n",
       "<path fill=\"#399de5\" fill-opacity=\"0.909804\" stroke=\"black\" d=\"M375.5,-53C375.5,-53 277.5,-53 277.5,-53 271.5,-53 265.5,-47 265.5,-41 265.5,-41 265.5,-12 265.5,-12 265.5,-6 271.5,-0 277.5,-0 277.5,-0 375.5,-0 375.5,-0 381.5,-0 387.5,-6 387.5,-12 387.5,-12 387.5,-41 387.5,-41 387.5,-47 381.5,-53 375.5,-53\"/>\r\n",
       "<text text-anchor=\"start\" x=\"289\" y=\"-37.8\" font-family=\"Helvetica,sans-Serif\" font-size=\"14.00\">gini = 0.152</text>\r\n",
       "<text text-anchor=\"start\" x=\"279\" y=\"-22.8\" font-family=\"Helvetica,sans-Serif\" font-size=\"14.00\">samples = 266</text>\r\n",
       "<text text-anchor=\"start\" x=\"273.5\" y=\"-7.8\" font-family=\"Helvetica,sans-Serif\" font-size=\"14.00\">value = [22, 244]</text>\r\n",
       "</g>\r\n",
       "<!-- 4&#45;&gt;5 -->\r\n",
       "<g id=\"edge5\" class=\"edge\"><title>4&#45;&gt;5</title>\r\n",
       "<path fill=\"none\" stroke=\"black\" d=\"M330.401,-88.9485C329.879,-80.7153 329.316,-71.848 328.785,-63.4814\"/>\r\n",
       "<polygon fill=\"black\" stroke=\"black\" points=\"332.261,-62.9948 328.134,-53.2367 325.275,-63.4384 332.261,-62.9948\"/>\r\n",
       "</g>\r\n",
       "<!-- 6 -->\r\n",
       "<g id=\"node7\" class=\"node\"><title>6</title>\r\n",
       "<path fill=\"#399de5\" fill-opacity=\"0.988235\" stroke=\"black\" d=\"M515.5,-53C515.5,-53 417.5,-53 417.5,-53 411.5,-53 405.5,-47 405.5,-41 405.5,-41 405.5,-12 405.5,-12 405.5,-6 411.5,-0 417.5,-0 417.5,-0 515.5,-0 515.5,-0 521.5,-0 527.5,-6 527.5,-12 527.5,-12 527.5,-41 527.5,-41 527.5,-47 521.5,-53 515.5,-53\"/>\r\n",
       "<text text-anchor=\"start\" x=\"429\" y=\"-37.8\" font-family=\"Helvetica,sans-Serif\" font-size=\"14.00\">gini = 0.026</text>\r\n",
       "<text text-anchor=\"start\" x=\"419\" y=\"-22.8\" font-family=\"Helvetica,sans-Serif\" font-size=\"14.00\">samples = 750</text>\r\n",
       "<text text-anchor=\"start\" x=\"413.5\" y=\"-7.8\" font-family=\"Helvetica,sans-Serif\" font-size=\"14.00\">value = [10, 740]</text>\r\n",
       "</g>\r\n",
       "<!-- 4&#45;&gt;6 -->\r\n",
       "<g id=\"edge6\" class=\"edge\"><title>4&#45;&gt;6</title>\r\n",
       "<path fill=\"none\" stroke=\"black\" d=\"M379.367,-88.9485C393.117,-79.2516 408.114,-68.6752 421.73,-59.073\"/>\r\n",
       "<polygon fill=\"black\" stroke=\"black\" points=\"423.851,-61.8603 430.006,-53.2367 419.816,-56.1397 423.851,-61.8603\"/>\r\n",
       "</g>\r\n",
       "</g>\r\n",
       "</svg>\r\n"
      ],
      "text/plain": [
       "<graphviz.files.Source at 0x20aea58f438>"
      ]
     },
     "execution_count": 16,
     "metadata": {},
     "output_type": "execute_result"
    },
    {
     "data": {
      "image/png": "[encoded data removed]",
      "text/plain": [
       "<Figure size 864x288 with 4 Axes>"
      ]
     },
     "metadata": {
      "needs_background": "light"
     },
     "output_type": "display_data"
    }
   ],
   "source": [
    "# Import essential models and functions from sklearn\n",
    "from sklearn.tree import DecisionTreeClassifier\n",
    "from sklearn.model_selection import train_test_split\n",
    "from sklearn.metrics import confusion_matrix\n",
    "from sklearn.tree import export_graphviz\n",
    "import graphviz\n",
    "\n",
    "# Extract Response and Predictors\n",
    "y = pd.DataFrame(houseData['CentralAir'])\n",
    "X = pd.DataFrame(houseData[['SalePrice', 'GrLivArea', 'LotArea', 'TotalBsmtSF']])\n",
    "\n",
    "# Split the Dataset into Train and Test\n",
    "X_train, X_test, y_train, y_test = train_test_split(X, y, test_size = 360)\n",
    "\n",
    "# Decision Tree using Train Data\n",
    "dectree = DecisionTreeClassifier(max_depth = 2)  # create the decision tree object\n",
    "dectree.fit(X_train, y_train)                    # train the decision tree model\n",
    "\n",
    "# Predict Response corresponding to Predictors\n",
    "y_train_pred = dectree.predict(X_train)\n",
    "y_test_pred = dectree.predict(X_test)\n",
    "\n",
    "# Check the Goodness of Fit (on Train Data)\n",
    "print(\"Goodness of Fit of Model \\tTrain Dataset\")\n",
    "print(\"Classification Accuracy \\t:\", dectree.score(X_train, y_train))\n",
    "print()\n",
    "\n",
    "# Check the Goodness of Fit (on Test Data)\n",
    "print(\"Goodness of Fit of Model \\tTest Dataset\")\n",
    "print(\"Classification Accuracy \\t:\", dectree.score(X_test, y_test))\n",
    "print()\n",
    "\n",
    "# Plot the Confusion Matrix for Train and Test\n",
    "f, axes = plt.subplots(1, 2, figsize=(12, 4))\n",
    "sb.heatmap(confusion_matrix(y_train, y_train_pred),\n",
    "           annot = True, fmt=\".0f\", annot_kws={\"size\": 18}, ax = axes[0])\n",
    "sb.heatmap(confusion_matrix(y_test, y_test_pred), \n",
    "           annot = True, fmt=\".0f\", annot_kws={\"size\": 18}, ax = axes[1])\n",
    "\n",
    "# Plot the Decision Tree\n",
    "treedot = export_graphviz(dectree,                                      # the model\n",
    "                          feature_names = X_train.columns,              # the features \n",
    "                          out_file = None,                              # output file\n",
    "                          filled = True,                                # node colors\n",
    "                          rounded = True,                               # make pretty\n",
    "                          special_characters = True)                    # postscript\n",
    "\n",
    "graphviz.Source(treedot)"
   ]
  },
  {
   "cell_type": "code",
   "execution_count": null,
   "metadata": {},
   "outputs": [],
   "source": []
  },
  {
   "cell_type": "markdown",
   "metadata": {},
   "source": [
    "Now that you have obtained Decision Tree of `CentralAir` against all four variables `SalePrice`, `GrLivArea`, `LotArea`, `TotalBsmtSF`, compare the initial position of the variables in the tree (which level of the tree does the variable appear for the first time), and the number of times the variables are used, to determine which variable is the most important in order to predict `CentralAir`. What do you think?"
   ]
  },
  {
   "cell_type": "code",
   "execution_count": null,
   "metadata": {},
   "outputs": [],
   "source": []
  },
  {
   "cell_type": "code",
   "execution_count": null,
   "metadata": {},
   "outputs": [],
   "source": []
  }
 ],
 "metadata": {
  "kernelspec": {
   "display_name": "Python 3",
   "language": "python",
   "name": "python3"
  },
  "language_info": {
   "codemirror_mode": {
    "name": "ipython",
    "version": 3
   },
   "file_extension": ".py",
   "mimetype": "text/x-python",
   "name": "python",
   "nbconvert_exporter": "python",
   "pygments_lexer": "ipython3",
   "version": "3.6.6"
  }
 },
 "nbformat": 4,
 "nbformat_minor": 2
}
